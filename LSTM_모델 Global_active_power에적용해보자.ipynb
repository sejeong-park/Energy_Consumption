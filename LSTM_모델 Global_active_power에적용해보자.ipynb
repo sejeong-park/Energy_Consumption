{
  "nbformat": 4,
  "nbformat_minor": 0,
  "metadata": {
    "colab": {
      "name": "LSTM 모델을 만들어보자-Global_active에 적용해보자",
      "provenance": [],
      "collapsed_sections": [],
      "authorship_tag": "ABX9TyM0D9lAxbl+oStw21p/8hP5",
      "include_colab_link": true
    },
    "kernelspec": {
      "name": "python3",
      "display_name": "Python 3"
    }
  },
  "cells": [
    {
      "cell_type": "markdown",
      "metadata": {
        "id": "view-in-github",
        "colab_type": "text"
      },
      "source": [
        "<a href=\"https://colab.research.google.com/github/sejeong-park/Energy_Consumption/blob/main/LSTM_%EB%AA%A8%EB%8D%B8%20Global_active_power%EC%97%90%EC%A0%81%EC%9A%A9%ED%95%B4%EB%B3%B4%EC%9E%90.ipynb\" target=\"_parent\"><img src=\"https://colab.research.google.com/assets/colab-badge.svg\" alt=\"Open In Colab\"/></a>"
      ]
    },
    {
      "cell_type": "code",
      "metadata": {
        "id": "B2Fq4nMFrIUf"
      },
      "source": [
        "import torch\r\n",
        "import torch.nn as nn\r\n",
        "import seaborn as sns\r\n",
        "import numpy as np\r\n",
        "import pandas as pd\r\n",
        "import matplotlib.pyplot as plt"
      ],
      "execution_count": null,
      "outputs": []
    },
    {
      "cell_type": "code",
      "metadata": {
        "id": "unAEm3BJxNVd"
      },
      "source": [
        "df=pd.read_csv('household_power_consumption_days.csv')"
      ],
      "execution_count": null,
      "outputs": []
    },
    {
      "cell_type": "code",
      "metadata": {
        "colab": {
          "base_uri": "https://localhost:8080/",
          "height": 419
        },
        "id": "-BkgecLTropv",
        "outputId": "15d90d75-283a-4e6a-86bf-46b9de1c0fa0"
      },
      "source": [
        "df\r\n",
        "#일변량 데이터\r\n"
      ],
      "execution_count": null,
      "outputs": [
        {
          "output_type": "execute_result",
          "data": {
            "text/html": [
              "<div>\n",
              "<style scoped>\n",
              "    .dataframe tbody tr th:only-of-type {\n",
              "        vertical-align: middle;\n",
              "    }\n",
              "\n",
              "    .dataframe tbody tr th {\n",
              "        vertical-align: top;\n",
              "    }\n",
              "\n",
              "    .dataframe thead th {\n",
              "        text-align: right;\n",
              "    }\n",
              "</style>\n",
              "<table border=\"1\" class=\"dataframe\">\n",
              "  <thead>\n",
              "    <tr style=\"text-align: right;\">\n",
              "      <th></th>\n",
              "      <th>dt</th>\n",
              "      <th>Global_active_power</th>\n",
              "      <th>Global_reactive_power</th>\n",
              "      <th>Voltage</th>\n",
              "      <th>Global_intensity</th>\n",
              "      <th>Sub_metering_1</th>\n",
              "      <th>Sub_metering_2</th>\n",
              "      <th>Sub_metering_3</th>\n",
              "    </tr>\n",
              "  </thead>\n",
              "  <tbody>\n",
              "    <tr>\n",
              "      <th>0</th>\n",
              "      <td>2007-01-01</td>\n",
              "      <td>2749.004</td>\n",
              "      <td>148.166</td>\n",
              "      <td>345785.73</td>\n",
              "      <td>11400.4</td>\n",
              "      <td>0.0</td>\n",
              "      <td>352.0</td>\n",
              "      <td>5880.0</td>\n",
              "    </tr>\n",
              "    <tr>\n",
              "      <th>1</th>\n",
              "      <td>2007-01-02</td>\n",
              "      <td>1269.236</td>\n",
              "      <td>190.342</td>\n",
              "      <td>348399.04</td>\n",
              "      <td>5348.2</td>\n",
              "      <td>0.0</td>\n",
              "      <td>348.0</td>\n",
              "      <td>6562.0</td>\n",
              "    </tr>\n",
              "    <tr>\n",
              "      <th>2</th>\n",
              "      <td>2007-01-03</td>\n",
              "      <td>1014.054</td>\n",
              "      <td>196.728</td>\n",
              "      <td>350722.21</td>\n",
              "      <td>4340.2</td>\n",
              "      <td>0.0</td>\n",
              "      <td>344.0</td>\n",
              "      <td>4765.0</td>\n",
              "    </tr>\n",
              "    <tr>\n",
              "      <th>3</th>\n",
              "      <td>2007-01-04</td>\n",
              "      <td>3259.412</td>\n",
              "      <td>202.302</td>\n",
              "      <td>345240.43</td>\n",
              "      <td>13648.6</td>\n",
              "      <td>1051.0</td>\n",
              "      <td>7597.0</td>\n",
              "      <td>10896.0</td>\n",
              "    </tr>\n",
              "    <tr>\n",
              "      <th>4</th>\n",
              "      <td>2007-01-05</td>\n",
              "      <td>2713.364</td>\n",
              "      <td>173.154</td>\n",
              "      <td>346313.90</td>\n",
              "      <td>11354.6</td>\n",
              "      <td>1483.0</td>\n",
              "      <td>379.0</td>\n",
              "      <td>7602.0</td>\n",
              "    </tr>\n",
              "    <tr>\n",
              "      <th>...</th>\n",
              "      <td>...</td>\n",
              "      <td>...</td>\n",
              "      <td>...</td>\n",
              "      <td>...</td>\n",
              "      <td>...</td>\n",
              "      <td>...</td>\n",
              "      <td>...</td>\n",
              "      <td>...</td>\n",
              "    </tr>\n",
              "    <tr>\n",
              "      <th>360</th>\n",
              "      <td>2007-12-27</td>\n",
              "      <td>2532.198</td>\n",
              "      <td>190.582</td>\n",
              "      <td>348640.72</td>\n",
              "      <td>10650.0</td>\n",
              "      <td>4122.0</td>\n",
              "      <td>1490.0</td>\n",
              "      <td>7960.0</td>\n",
              "    </tr>\n",
              "    <tr>\n",
              "      <th>361</th>\n",
              "      <td>2007-12-28</td>\n",
              "      <td>3113.052</td>\n",
              "      <td>206.800</td>\n",
              "      <td>348889.65</td>\n",
              "      <td>13004.0</td>\n",
              "      <td>1980.0</td>\n",
              "      <td>8554.0</td>\n",
              "      <td>15823.0</td>\n",
              "    </tr>\n",
              "    <tr>\n",
              "      <th>362</th>\n",
              "      <td>2007-12-29</td>\n",
              "      <td>3298.956</td>\n",
              "      <td>199.892</td>\n",
              "      <td>346392.96</td>\n",
              "      <td>13766.4</td>\n",
              "      <td>4836.0</td>\n",
              "      <td>2434.0</td>\n",
              "      <td>14906.0</td>\n",
              "    </tr>\n",
              "    <tr>\n",
              "      <th>363</th>\n",
              "      <td>2007-12-30</td>\n",
              "      <td>2558.916</td>\n",
              "      <td>178.436</td>\n",
              "      <td>348622.81</td>\n",
              "      <td>10750.6</td>\n",
              "      <td>3595.0</td>\n",
              "      <td>3597.0</td>\n",
              "      <td>13485.0</td>\n",
              "    </tr>\n",
              "    <tr>\n",
              "      <th>364</th>\n",
              "      <td>2007-12-31</td>\n",
              "      <td>2216.542</td>\n",
              "      <td>145.536</td>\n",
              "      <td>347176.50</td>\n",
              "      <td>9295.2</td>\n",
              "      <td>0.0</td>\n",
              "      <td>3457.0</td>\n",
              "      <td>14071.0</td>\n",
              "    </tr>\n",
              "  </tbody>\n",
              "</table>\n",
              "<p>365 rows × 8 columns</p>\n",
              "</div>"
            ],
            "text/plain": [
              "             dt  Global_active_power  ...  Sub_metering_2  Sub_metering_3\n",
              "0    2007-01-01             2749.004  ...           352.0          5880.0\n",
              "1    2007-01-02             1269.236  ...           348.0          6562.0\n",
              "2    2007-01-03             1014.054  ...           344.0          4765.0\n",
              "3    2007-01-04             3259.412  ...          7597.0         10896.0\n",
              "4    2007-01-05             2713.364  ...           379.0          7602.0\n",
              "..          ...                  ...  ...             ...             ...\n",
              "360  2007-12-27             2532.198  ...          1490.0          7960.0\n",
              "361  2007-12-28             3113.052  ...          8554.0         15823.0\n",
              "362  2007-12-29             3298.956  ...          2434.0         14906.0\n",
              "363  2007-12-30             2558.916  ...          3597.0         13485.0\n",
              "364  2007-12-31             2216.542  ...          3457.0         14071.0\n",
              "\n",
              "[365 rows x 8 columns]"
            ]
          },
          "metadata": {
            "tags": []
          },
          "execution_count": 6
        }
      ]
    },
    {
      "cell_type": "code",
      "metadata": {
        "id": "_IkgqVEorol-"
      },
      "source": [
        "data=df['Global_active_power'].values.astype(float)\r\n",
        "valid_data_size=12 #일년의 일간 변화율 측정할 것 \r\n",
        "train_data=data[:-valid_data_size]\r\n",
        "valid_data=data[-valid_data_size:]"
      ],
      "execution_count": null,
      "outputs": []
    },
    {
      "cell_type": "code",
      "metadata": {
        "colab": {
          "base_uri": "https://localhost:8080/"
        },
        "id": "RknTA4k83vsn",
        "outputId": "2513883c-e2e7-471c-d564-6ec664e3574a"
      },
      "source": [
        "train_data.shape"
      ],
      "execution_count": null,
      "outputs": [
        {
          "output_type": "execute_result",
          "data": {
            "text/plain": [
              "(353,)"
            ]
          },
          "metadata": {
            "tags": []
          },
          "execution_count": 65
        }
      ]
    },
    {
      "cell_type": "code",
      "metadata": {
        "colab": {
          "base_uri": "https://localhost:8080/"
        },
        "id": "z1xwlAXJyoGa",
        "outputId": "cfa947b6-ccd5-4015-e575-c8e45071b97a"
      },
      "source": [
        "train_data"
      ],
      "execution_count": null,
      "outputs": [
        {
          "output_type": "execute_result",
          "data": {
            "text/plain": [
              "array([2749.004, 1269.236, 1014.054, 3259.412, 2713.364, 1508.378,\n",
              "       2447.62 , 2241.36 , 1869.054, 2154.8  , 2255.194, 1461.296,\n",
              "       3186.814, 3007.816, 2148.678, 1686.404, 2847.688, 1821.462,\n",
              "       1480.44 , 3133.732, 3407.262, 2180.494, 1777.64 , 2987.854,\n",
              "       1596.344, 1617.972, 2044.072, 3090.204, 1982.664, 1707.798,\n",
              "       2363.752, 1824.76 , 1667.736, 4029.722, 3595.94 , 1645.28 ,\n",
              "       1273.48 , 2328.018, 1801.414, 1620.198, 2829.328, 3571.228,\n",
              "       1877.61 , 1414.546, 2498.672, 1985.346, 1702.528, 2076.912,\n",
              "       3829.762, 2186.614, 3149.928, 2072.874, 3369.478, 1313.48 ,\n",
              "        714.922,  501.74 ,  568.484,  518.112,  520.774,  517.564,\n",
              "        515.688,  819.122, 2090.7  , 2660.332, 1246.5  , 2375.206,\n",
              "       1572.132, 1272.612, 2484.712, 3480.636, 1950.668, 1290.144,\n",
              "       1793.364, 1884.814, 1702.054, 2028.09 , 2371.046, 2152.518,\n",
              "       2086.228, 2142.092, 1454.978, 1309.008, 2968.43 , 3336.124,\n",
              "       1416.082, 1105.14 , 2333.898, 1590.406, 1402.394, 3509.51 ,\n",
              "       2785.952, 1960.778, 1642.82 , 2051.868, 1844.078, 1601.14 ,\n",
              "       1553.924, 1608.816, 1000.92 ,  777.364,  887.482,  537.706,\n",
              "        551.022,  554.268,  726.164,  952.39 , 1223.734,  998.246,\n",
              "       1028.658,  822.58 , 1673.656, 2233.714, 1054.566, 1032.1  ,\n",
              "       1264.162, 1275.466, 1094.332,   22.738,    0.   ,  420.822,\n",
              "       1663.858, 1003.486, 1090.238,  998.128, 1563.052, 2102.104,\n",
              "       1643.664, 1789.292, 1665.736,  707.884,  979.154, 1441.566,\n",
              "       1634.738, 1467.782,  904.392, 1692.944, 1231.816, 1631.53 ,\n",
              "       1429.442, 1968.328, 1120.062, 1132.852, 1464.936, 1154.388,\n",
              "       1614.22 , 1512.248, 2153.808, 1637.468, 1061.34 , 1609.866,\n",
              "        938.55 , 1044.918, 1484.362, 2108.026,  911.618, 1458.892,\n",
              "       1693.638,  985.002, 2148.046, 1059.814, 1340.812,  794.654,\n",
              "        918.766,  927.272, 1259.084,  989.604, 2017.762, 1947.09 ,\n",
              "        678.474,  842.36 , 1074.286,  806.946,  566.294,  477.566,\n",
              "        714.656, 1072.202,  944.908, 1480.826, 1295.438, 1304.198,\n",
              "       1335.314, 1026.664,  967.032, 1059.912, 1003.41 , 1057.29 ,\n",
              "       1069.524, 1358.206, 1089.08 , 1180.158,  908.324,  722.352,\n",
              "       1069.582,  794.382, 1288.17 ,  917.024,  853.674,  719.632,\n",
              "        757.082,  677.886, 1110.422, 1060.248, 1375.774,  991.018,\n",
              "        825.284,  472.56 ,  924.5  , 1202.514, 1621.862,  321.116,\n",
              "        466.816,  812.332, 1060.338, 1019.416, 1063.364, 1144.99 ,\n",
              "        787.098, 1089.72 , 1483.58 , 1125.482, 1071.68 , 1028.01 ,\n",
              "       1091.65 , 1241.904, 1153.012,  941.19 , 1191.86 ,  958.496,\n",
              "       1009.892,  347.96 , 1422.294, 1338.842,  642.556, 1209.808,\n",
              "       1112.312, 1656.214, 1150.88 , 1314.906, 1211.73 ,  997.004,\n",
              "        747.992, 1202.458, 1279.822, 1701.486, 1662.468, 1038.922,\n",
              "       1584.944, 1236.572,  901.474, 1336.496, 1469.752, 1679.502,\n",
              "       1117.376,  983.572, 1287.764, 1146.382, 1135.47 , 1095.312,\n",
              "       1652.224, 1461.186, 1167.52 , 1298.684, 1255.532, 1238.78 ,\n",
              "       1176.172, 1417.97 , 1354.53 , 1764.342, 1822.264, 1392.6  ,\n",
              "       1680.498, 2296.522, 1516.29 , 1720.922, 2198.864, 1280.454,\n",
              "       1518.458, 1394.092, 1756.24 , 2106.114, 1095.242, 1687.858,\n",
              "       1166.972, 1732.446, 1914.504, 1926.728, 2061.252, 1266.33 ,\n",
              "       1964.442, 1576.93 , 1518.53 , 2085.648, 1660.246, 1941.94 ,\n",
              "       1652.896, 1954.648, 1865.636, 1853.918, 1437.568, 1785.688,\n",
              "        512.158,  545.428,  811.008, 1283.21 ,  496.216, 1443.602,\n",
              "        492.55 , 1485.686, 1500.592, 2082.378, 1844.758, 1501.06 ,\n",
              "       2171.226, 2611.6  , 1887.124, 2156.146, 2214.398, 2047.994,\n",
              "       1491.988, 2309.754, 2610.094, 2183.858, 1723.654, 2095.856,\n",
              "       1751.836, 1932.378, 2522.618, 1899.054, 1395.598, 1569.716,\n",
              "       2801.012, 1644.94 , 1719.23 , 2331.728, 3134.942, 2946.188,\n",
              "       1762.06 , 2067.636, 2153.12 , 2487.934, 1769.016, 2213.404,\n",
              "       2274.584, 1758.754, 2305.104, 1588.062, 1847.746, 1974.808,\n",
              "       2736.876, 2762.218, 1797.066, 2623.194, 2196.052])"
            ]
          },
          "metadata": {
            "tags": []
          },
          "execution_count": 27
        }
      ]
    },
    {
      "cell_type": "code",
      "metadata": {
        "colab": {
          "base_uri": "https://localhost:8080/"
        },
        "id": "LImREMqh1yRH",
        "outputId": "9b3ac9f4-84f1-4930-e92e-96593c19213a"
      },
      "source": [
        "valid_data"
      ],
      "execution_count": null,
      "outputs": [
        {
          "output_type": "execute_result",
          "data": {
            "text/plain": [
              "array([1949.758, 1982.576, 2611.264, 2409.048, 2257.848, 2694.968,\n",
              "       2580.28 , 2532.198, 3113.052, 3298.956, 2558.916, 2216.542])"
            ]
          },
          "metadata": {
            "tags": []
          },
          "execution_count": 43
        }
      ]
    },
    {
      "cell_type": "code",
      "metadata": {
        "id": "4cFdNvTerojH"
      },
      "source": [
        "from sklearn.preprocessing import MinMaxScaler\r\n",
        "scaler=MinMaxScaler()\r\n",
        "train_data_norm=scaler.fit_transform(train_data.reshape(-1,1))"
      ],
      "execution_count": null,
      "outputs": []
    },
    {
      "cell_type": "code",
      "metadata": {
        "id": "jiqX-ffdrogu"
      },
      "source": [
        "sequence_length=12 #12월까지->365일\r\n",
        "def make_batch(input_data,sl):\r\n",
        "  train_x=[]\r\n",
        "  train_y=[]\r\n",
        "  L=len(input_data)\r\n",
        "  for i in range(L-sl):\r\n",
        "    train_seq=input_data[i:i+sl]\r\n",
        "    train_label=input_data[i+sl:i+sl+1]\r\n",
        "    train_x.append(train_seq)\r\n",
        "    train_y.append(train_label)\r\n",
        "  return train_x,train_y"
      ],
      "execution_count": null,
      "outputs": []
    },
    {
      "cell_type": "code",
      "metadata": {
        "id": "GY6z0d2urod-"
      },
      "source": [
        "#Array형태의 데이터를 파이토치 텐서로 변환\r\n",
        "train_x,train_y=make_batch(train_data_norm, sequence_length)\r\n",
        "tensor_x=torch.Tensor(train_x)\r\n",
        "tensor_y=torch.Tensor(train_y)\r\n"
      ],
      "execution_count": null,
      "outputs": []
    },
    {
      "cell_type": "code",
      "metadata": {
        "id": "R3IW90DpybA6"
      },
      "source": [
        "#output : (torch.Size([108, 12, 1]), torch.Size([108, 1, 1]))"
      ],
      "execution_count": null,
      "outputs": []
    },
    {
      "cell_type": "code",
      "metadata": {
        "id": "HHH9Bs_5tzpM",
        "colab": {
          "base_uri": "https://localhost:8080/"
        },
        "outputId": "fb067b21-69b1-45a1-9628-3ef56c6804bb"
      },
      "source": [
        "tensor_x.size(),tensor_y.size()\r\n"
      ],
      "execution_count": null,
      "outputs": [
        {
          "output_type": "execute_result",
          "data": {
            "text/plain": [
              "(torch.Size([341, 12, 1]), torch.Size([341, 1, 1]))"
            ]
          },
          "metadata": {
            "tags": []
          },
          "execution_count": 53
        }
      ]
    },
    {
      "cell_type": "code",
      "metadata": {
        "id": "98u2vC22vn6D"
      },
      "source": [
        "class RNN(nn.Module):\r\n",
        "    \r\n",
        "    def __init__(self):\r\n",
        "        super().__init__()\r\n",
        "        self.input_vector = 1\r\n",
        "        self.sequence_length = 365\r\n",
        "        self.output_vector = 100\r\n",
        "        self.num_layers = 4\r\n",
        "        \r\n",
        "        self.lstm = nn.LSTM(input_size=self.input_vector, hidden_size=self.output_vector, num_layers=self.num_layers, batch_first=True)\r\n",
        "        self.linear = nn.Sequential(\r\n",
        "            nn.Linear(self.output_vector, 50),\r\n",
        "            nn.Linear(50, 30),\r\n",
        "            nn.Linear(30, 10),\r\n",
        "            nn.Linear(10,1)\r\n",
        "        )\r\n",
        "        \r\n",
        "    def forward(self, x):\r\n",
        "        output, _ = self.lstm(x) #(hidden, cell) 데이터는 사용하지 않음\r\n",
        "        return self.linear(output[:,-1,:])\r\n",
        "model = RNN()"
      ],
      "execution_count": null,
      "outputs": []
    },
    {
      "cell_type": "code",
      "metadata": {
        "colab": {
          "base_uri": "https://localhost:8080/"
        },
        "id": "i6u9tmfuvksE",
        "outputId": "1d73a34e-8632-4e71-8557-001ca0e0464d"
      },
      "source": [
        "optimizer = torch.optim.Adam(model.parameters(), lr=0.001)\r\n",
        "criterion = nn.MSELoss()\r\n",
        "epochs = 501\r\n",
        "for i in range(epochs):\r\n",
        "    model.train()\r\n",
        "    \r\n",
        "    output = model(tensor_x)\r\n",
        "    loss = criterion(output, tensor_y.view(-1,1))\r\n",
        "    \r\n",
        "    optimizer.zero_grad()\r\n",
        "    loss.backward()\r\n",
        "    optimizer.step()\r\n",
        "    \r\n",
        "    if i%25 == 0:\r\n",
        "        print('Epoch {}, Loss {:.5f}'.format(i, loss.item()))"
      ],
      "execution_count": null,
      "outputs": [
        {
          "output_type": "stream",
          "text": [
            "Epoch 0, Loss 0.06470\n",
            "Epoch 25, Loss 0.02895\n",
            "Epoch 50, Loss 0.02889\n",
            "Epoch 75, Loss 0.02519\n",
            "Epoch 100, Loss 0.02231\n",
            "Epoch 125, Loss 0.02003\n",
            "Epoch 150, Loss 0.01834\n",
            "Epoch 175, Loss 0.01720\n",
            "Epoch 200, Loss 0.01629\n",
            "Epoch 225, Loss 0.01393\n",
            "Epoch 250, Loss 0.01240\n",
            "Epoch 275, Loss 0.01083\n",
            "Epoch 300, Loss 0.00881\n",
            "Epoch 325, Loss 0.00771\n",
            "Epoch 350, Loss 0.00641\n",
            "Epoch 375, Loss 0.00565\n",
            "Epoch 400, Loss 0.00492\n",
            "Epoch 425, Loss 0.00359\n",
            "Epoch 450, Loss 0.00339\n",
            "Epoch 475, Loss 0.00234\n",
            "Epoch 500, Loss 0.00402\n"
          ],
          "name": "stdout"
        }
      ]
    },
    {
      "cell_type": "code",
      "metadata": {
        "id": "iwqZjRd1tzh0"
      },
      "source": [
        "valid_data_norm=train_data_norm[-valid_data_size:]\r\n",
        "valid_x,_=make_batch(valid_data_norm,sequence_length)\r\n"
      ],
      "execution_count": null,
      "outputs": []
    },
    {
      "cell_type": "code",
      "metadata": {
        "colab": {
          "base_uri": "https://localhost:8080/"
        },
        "id": "zC0SBK293AYt",
        "outputId": "c7020179-504b-4261-f764-d1a91333a585"
      },
      "source": [
        "valid_data_norm"
      ],
      "execution_count": null,
      "outputs": [
        {
          "output_type": "execute_result",
          "data": {
            "text/plain": [
              "array([[0.54926965],\n",
              "       [0.56445184],\n",
              "       [0.43644549],\n",
              "       [0.57202556],\n",
              "       [0.39408723],\n",
              "       [0.4585294 ],\n",
              "       [0.4900606 ],\n",
              "       [0.67917241],\n",
              "       [0.68546118],\n",
              "       [0.44595285],\n",
              "       [0.65096153],\n",
              "       [0.54496365]])"
            ]
          },
          "metadata": {
            "tags": []
          },
          "execution_count": 62
        }
      ]
    },
    {
      "cell_type": "code",
      "metadata": {
        "id": "u2LNiFMdtzfO",
        "colab": {
          "base_uri": "https://localhost:8080/",
          "height": 394
        },
        "outputId": "f4cc13e0-2766-436b-aab6-a343ee952cec"
      },
      "source": [
        "model.eval()\r\n",
        "with torch.no_grad():\r\n",
        "  valid_tensor=torch.Tensor(valid_x)\r\n",
        "  predict=model(valid_tensor)\r\n",
        "predict=predict.data.numpy()\r\n",
        "actual_predictions=scaler.inverse_transform(predict)"
      ],
      "execution_count": null,
      "outputs": [
        {
          "output_type": "error",
          "ename": "RuntimeError",
          "evalue": "ignored",
          "traceback": [
            "\u001b[0;31m---------------------------------------------------------------------------\u001b[0m",
            "\u001b[0;31mRuntimeError\u001b[0m                              Traceback (most recent call last)",
            "\u001b[0;32m<ipython-input-63-03da30ab5d77>\u001b[0m in \u001b[0;36m<module>\u001b[0;34m()\u001b[0m\n\u001b[1;32m      2\u001b[0m \u001b[0;32mwith\u001b[0m \u001b[0mtorch\u001b[0m\u001b[0;34m.\u001b[0m\u001b[0mno_grad\u001b[0m\u001b[0;34m(\u001b[0m\u001b[0;34m)\u001b[0m\u001b[0;34m:\u001b[0m\u001b[0;34m\u001b[0m\u001b[0;34m\u001b[0m\u001b[0m\n\u001b[1;32m      3\u001b[0m   \u001b[0mvalid_tensor\u001b[0m\u001b[0;34m=\u001b[0m\u001b[0mtorch\u001b[0m\u001b[0;34m.\u001b[0m\u001b[0mTensor\u001b[0m\u001b[0;34m(\u001b[0m\u001b[0mvalid_x\u001b[0m\u001b[0;34m)\u001b[0m\u001b[0;34m\u001b[0m\u001b[0;34m\u001b[0m\u001b[0m\n\u001b[0;32m----> 4\u001b[0;31m   \u001b[0mpredict\u001b[0m\u001b[0;34m=\u001b[0m\u001b[0mmodel\u001b[0m\u001b[0;34m(\u001b[0m\u001b[0mvalid_tensor\u001b[0m\u001b[0;34m)\u001b[0m\u001b[0;34m\u001b[0m\u001b[0;34m\u001b[0m\u001b[0m\n\u001b[0m\u001b[1;32m      5\u001b[0m \u001b[0mpredict\u001b[0m\u001b[0;34m=\u001b[0m\u001b[0mpredict\u001b[0m\u001b[0;34m.\u001b[0m\u001b[0mdata\u001b[0m\u001b[0;34m.\u001b[0m\u001b[0mnumpy\u001b[0m\u001b[0;34m(\u001b[0m\u001b[0;34m)\u001b[0m\u001b[0;34m\u001b[0m\u001b[0;34m\u001b[0m\u001b[0m\n\u001b[1;32m      6\u001b[0m \u001b[0mactual_predictions\u001b[0m\u001b[0;34m=\u001b[0m\u001b[0mscaler\u001b[0m\u001b[0;34m.\u001b[0m\u001b[0minverse_transform\u001b[0m\u001b[0;34m(\u001b[0m\u001b[0mpredict\u001b[0m\u001b[0;34m)\u001b[0m\u001b[0;34m\u001b[0m\u001b[0;34m\u001b[0m\u001b[0m\n",
            "\u001b[0;32m/usr/local/lib/python3.6/dist-packages/torch/nn/modules/module.py\u001b[0m in \u001b[0;36m_call_impl\u001b[0;34m(self, *input, **kwargs)\u001b[0m\n\u001b[1;32m    725\u001b[0m             \u001b[0mresult\u001b[0m \u001b[0;34m=\u001b[0m \u001b[0mself\u001b[0m\u001b[0;34m.\u001b[0m\u001b[0m_slow_forward\u001b[0m\u001b[0;34m(\u001b[0m\u001b[0;34m*\u001b[0m\u001b[0minput\u001b[0m\u001b[0;34m,\u001b[0m \u001b[0;34m**\u001b[0m\u001b[0mkwargs\u001b[0m\u001b[0;34m)\u001b[0m\u001b[0;34m\u001b[0m\u001b[0;34m\u001b[0m\u001b[0m\n\u001b[1;32m    726\u001b[0m         \u001b[0;32melse\u001b[0m\u001b[0;34m:\u001b[0m\u001b[0;34m\u001b[0m\u001b[0;34m\u001b[0m\u001b[0m\n\u001b[0;32m--> 727\u001b[0;31m             \u001b[0mresult\u001b[0m \u001b[0;34m=\u001b[0m \u001b[0mself\u001b[0m\u001b[0;34m.\u001b[0m\u001b[0mforward\u001b[0m\u001b[0;34m(\u001b[0m\u001b[0;34m*\u001b[0m\u001b[0minput\u001b[0m\u001b[0;34m,\u001b[0m \u001b[0;34m**\u001b[0m\u001b[0mkwargs\u001b[0m\u001b[0;34m)\u001b[0m\u001b[0;34m\u001b[0m\u001b[0;34m\u001b[0m\u001b[0m\n\u001b[0m\u001b[1;32m    728\u001b[0m         for hook in itertools.chain(\n\u001b[1;32m    729\u001b[0m                 \u001b[0m_global_forward_hooks\u001b[0m\u001b[0;34m.\u001b[0m\u001b[0mvalues\u001b[0m\u001b[0;34m(\u001b[0m\u001b[0;34m)\u001b[0m\u001b[0;34m,\u001b[0m\u001b[0;34m\u001b[0m\u001b[0;34m\u001b[0m\u001b[0m\n",
            "\u001b[0;32m<ipython-input-49-e8ddaf3c18ea>\u001b[0m in \u001b[0;36mforward\u001b[0;34m(self, x)\u001b[0m\n\u001b[1;32m     17\u001b[0m \u001b[0;34m\u001b[0m\u001b[0m\n\u001b[1;32m     18\u001b[0m     \u001b[0;32mdef\u001b[0m \u001b[0mforward\u001b[0m\u001b[0;34m(\u001b[0m\u001b[0mself\u001b[0m\u001b[0;34m,\u001b[0m \u001b[0mx\u001b[0m\u001b[0;34m)\u001b[0m\u001b[0;34m:\u001b[0m\u001b[0;34m\u001b[0m\u001b[0;34m\u001b[0m\u001b[0m\n\u001b[0;32m---> 19\u001b[0;31m         \u001b[0moutput\u001b[0m\u001b[0;34m,\u001b[0m \u001b[0m_\u001b[0m \u001b[0;34m=\u001b[0m \u001b[0mself\u001b[0m\u001b[0;34m.\u001b[0m\u001b[0mlstm\u001b[0m\u001b[0;34m(\u001b[0m\u001b[0mx\u001b[0m\u001b[0;34m)\u001b[0m \u001b[0;31m#(hidden, cell) 데이터는 사용하지 않음\u001b[0m\u001b[0;34m\u001b[0m\u001b[0;34m\u001b[0m\u001b[0m\n\u001b[0m\u001b[1;32m     20\u001b[0m         \u001b[0;32mreturn\u001b[0m \u001b[0mself\u001b[0m\u001b[0;34m.\u001b[0m\u001b[0mlinear\u001b[0m\u001b[0;34m(\u001b[0m\u001b[0moutput\u001b[0m\u001b[0;34m[\u001b[0m\u001b[0;34m:\u001b[0m\u001b[0;34m,\u001b[0m\u001b[0;34m-\u001b[0m\u001b[0;36m1\u001b[0m\u001b[0;34m,\u001b[0m\u001b[0;34m:\u001b[0m\u001b[0;34m]\u001b[0m\u001b[0;34m)\u001b[0m\u001b[0;34m\u001b[0m\u001b[0;34m\u001b[0m\u001b[0m\n\u001b[1;32m     21\u001b[0m \u001b[0mmodel\u001b[0m \u001b[0;34m=\u001b[0m \u001b[0mRNN\u001b[0m\u001b[0;34m(\u001b[0m\u001b[0;34m)\u001b[0m\u001b[0;34m\u001b[0m\u001b[0;34m\u001b[0m\u001b[0m\n",
            "\u001b[0;32m/usr/local/lib/python3.6/dist-packages/torch/nn/modules/module.py\u001b[0m in \u001b[0;36m_call_impl\u001b[0;34m(self, *input, **kwargs)\u001b[0m\n\u001b[1;32m    725\u001b[0m             \u001b[0mresult\u001b[0m \u001b[0;34m=\u001b[0m \u001b[0mself\u001b[0m\u001b[0;34m.\u001b[0m\u001b[0m_slow_forward\u001b[0m\u001b[0;34m(\u001b[0m\u001b[0;34m*\u001b[0m\u001b[0minput\u001b[0m\u001b[0;34m,\u001b[0m \u001b[0;34m**\u001b[0m\u001b[0mkwargs\u001b[0m\u001b[0;34m)\u001b[0m\u001b[0;34m\u001b[0m\u001b[0;34m\u001b[0m\u001b[0m\n\u001b[1;32m    726\u001b[0m         \u001b[0;32melse\u001b[0m\u001b[0;34m:\u001b[0m\u001b[0;34m\u001b[0m\u001b[0;34m\u001b[0m\u001b[0m\n\u001b[0;32m--> 727\u001b[0;31m             \u001b[0mresult\u001b[0m \u001b[0;34m=\u001b[0m \u001b[0mself\u001b[0m\u001b[0;34m.\u001b[0m\u001b[0mforward\u001b[0m\u001b[0;34m(\u001b[0m\u001b[0;34m*\u001b[0m\u001b[0minput\u001b[0m\u001b[0;34m,\u001b[0m \u001b[0;34m**\u001b[0m\u001b[0mkwargs\u001b[0m\u001b[0;34m)\u001b[0m\u001b[0;34m\u001b[0m\u001b[0;34m\u001b[0m\u001b[0m\n\u001b[0m\u001b[1;32m    728\u001b[0m         for hook in itertools.chain(\n\u001b[1;32m    729\u001b[0m                 \u001b[0m_global_forward_hooks\u001b[0m\u001b[0;34m.\u001b[0m\u001b[0mvalues\u001b[0m\u001b[0;34m(\u001b[0m\u001b[0;34m)\u001b[0m\u001b[0;34m,\u001b[0m\u001b[0;34m\u001b[0m\u001b[0;34m\u001b[0m\u001b[0m\n",
            "\u001b[0;32m/usr/local/lib/python3.6/dist-packages/torch/nn/modules/rnn.py\u001b[0m in \u001b[0;36mforward\u001b[0;34m(self, input, hx)\u001b[0m\n\u001b[1;32m    577\u001b[0m             \u001b[0mhx\u001b[0m \u001b[0;34m=\u001b[0m \u001b[0mself\u001b[0m\u001b[0;34m.\u001b[0m\u001b[0mpermute_hidden\u001b[0m\u001b[0;34m(\u001b[0m\u001b[0mhx\u001b[0m\u001b[0;34m,\u001b[0m \u001b[0msorted_indices\u001b[0m\u001b[0;34m)\u001b[0m\u001b[0;34m\u001b[0m\u001b[0;34m\u001b[0m\u001b[0m\n\u001b[1;32m    578\u001b[0m \u001b[0;34m\u001b[0m\u001b[0m\n\u001b[0;32m--> 579\u001b[0;31m         \u001b[0mself\u001b[0m\u001b[0;34m.\u001b[0m\u001b[0mcheck_forward_args\u001b[0m\u001b[0;34m(\u001b[0m\u001b[0minput\u001b[0m\u001b[0;34m,\u001b[0m \u001b[0mhx\u001b[0m\u001b[0;34m,\u001b[0m \u001b[0mbatch_sizes\u001b[0m\u001b[0;34m)\u001b[0m\u001b[0;34m\u001b[0m\u001b[0;34m\u001b[0m\u001b[0m\n\u001b[0m\u001b[1;32m    580\u001b[0m         \u001b[0;32mif\u001b[0m \u001b[0mbatch_sizes\u001b[0m \u001b[0;32mis\u001b[0m \u001b[0;32mNone\u001b[0m\u001b[0;34m:\u001b[0m\u001b[0;34m\u001b[0m\u001b[0;34m\u001b[0m\u001b[0m\n\u001b[1;32m    581\u001b[0m             result = _VF.lstm(input, hx, self._flat_weights, self.bias, self.num_layers,\n",
            "\u001b[0;32m/usr/local/lib/python3.6/dist-packages/torch/nn/modules/rnn.py\u001b[0m in \u001b[0;36mcheck_forward_args\u001b[0;34m(self, input, hidden, batch_sizes)\u001b[0m\n\u001b[1;32m    528\u001b[0m \u001b[0;34m\u001b[0m\u001b[0m\n\u001b[1;32m    529\u001b[0m     \u001b[0;32mdef\u001b[0m \u001b[0mcheck_forward_args\u001b[0m\u001b[0;34m(\u001b[0m\u001b[0mself\u001b[0m\u001b[0;34m,\u001b[0m \u001b[0minput\u001b[0m\u001b[0;34m:\u001b[0m \u001b[0mTensor\u001b[0m\u001b[0;34m,\u001b[0m \u001b[0mhidden\u001b[0m\u001b[0;34m:\u001b[0m \u001b[0mTuple\u001b[0m\u001b[0;34m[\u001b[0m\u001b[0mTensor\u001b[0m\u001b[0;34m,\u001b[0m \u001b[0mTensor\u001b[0m\u001b[0;34m]\u001b[0m\u001b[0;34m,\u001b[0m \u001b[0mbatch_sizes\u001b[0m\u001b[0;34m:\u001b[0m \u001b[0mOptional\u001b[0m\u001b[0;34m[\u001b[0m\u001b[0mTensor\u001b[0m\u001b[0;34m]\u001b[0m\u001b[0;34m)\u001b[0m\u001b[0;34m:\u001b[0m\u001b[0;34m\u001b[0m\u001b[0;34m\u001b[0m\u001b[0m\n\u001b[0;32m--> 530\u001b[0;31m         \u001b[0mself\u001b[0m\u001b[0;34m.\u001b[0m\u001b[0mcheck_input\u001b[0m\u001b[0;34m(\u001b[0m\u001b[0minput\u001b[0m\u001b[0;34m,\u001b[0m \u001b[0mbatch_sizes\u001b[0m\u001b[0;34m)\u001b[0m\u001b[0;34m\u001b[0m\u001b[0;34m\u001b[0m\u001b[0m\n\u001b[0m\u001b[1;32m    531\u001b[0m         \u001b[0mexpected_hidden_size\u001b[0m \u001b[0;34m=\u001b[0m \u001b[0mself\u001b[0m\u001b[0;34m.\u001b[0m\u001b[0mget_expected_hidden_size\u001b[0m\u001b[0;34m(\u001b[0m\u001b[0minput\u001b[0m\u001b[0;34m,\u001b[0m \u001b[0mbatch_sizes\u001b[0m\u001b[0;34m)\u001b[0m\u001b[0;34m\u001b[0m\u001b[0;34m\u001b[0m\u001b[0m\n\u001b[1;32m    532\u001b[0m \u001b[0;34m\u001b[0m\u001b[0m\n",
            "\u001b[0;32m/usr/local/lib/python3.6/dist-packages/torch/nn/modules/rnn.py\u001b[0m in \u001b[0;36mcheck_input\u001b[0;34m(self, input, batch_sizes)\u001b[0m\n\u001b[1;32m    174\u001b[0m             raise RuntimeError(\n\u001b[1;32m    175\u001b[0m                 'input must have {} dimensions, got {}'.format(\n\u001b[0;32m--> 176\u001b[0;31m                     expected_input_dim, input.dim()))\n\u001b[0m\u001b[1;32m    177\u001b[0m         \u001b[0;32mif\u001b[0m \u001b[0mself\u001b[0m\u001b[0;34m.\u001b[0m\u001b[0minput_size\u001b[0m \u001b[0;34m!=\u001b[0m \u001b[0minput\u001b[0m\u001b[0;34m.\u001b[0m\u001b[0msize\u001b[0m\u001b[0;34m(\u001b[0m\u001b[0;34m-\u001b[0m\u001b[0;36m1\u001b[0m\u001b[0;34m)\u001b[0m\u001b[0;34m:\u001b[0m\u001b[0;34m\u001b[0m\u001b[0;34m\u001b[0m\u001b[0m\n\u001b[1;32m    178\u001b[0m             raise RuntimeError(\n",
            "\u001b[0;31mRuntimeError\u001b[0m: input must have 3 dimensions, got 1"
          ]
        }
      ]
    },
    {
      "cell_type": "code",
      "metadata": {
        "colab": {
          "base_uri": "https://localhost:8080/",
          "height": 490
        },
        "id": "bb2Hdlzgtzce",
        "outputId": "526c9220-69bd-4d00-9ae6-36c5a0e7f631"
      },
      "source": [
        "x=np.arange(120,132,1)\r\n",
        "plt.title('Month vs Passenger')\r\n",
        "plt.ylabel('Total Passengers')\r\n",
        "plt.grid(True)\r\n",
        "plt.autoscale(axis='x',tight=True)\r\n",
        "plt.autoscale(axis='x',tight=True)\r\n",
        "plt.plot(df['Global_active_power'][0:353])\r\n",
        "plt.plot(x,actual_predictions)\r\n",
        "plt.show()"
      ],
      "execution_count": null,
      "outputs": [
        {
          "output_type": "error",
          "ename": "NameError",
          "evalue": "ignored",
          "traceback": [
            "\u001b[0;31m---------------------------------------------------------------------------\u001b[0m",
            "\u001b[0;31mNameError\u001b[0m                                 Traceback (most recent call last)",
            "\u001b[0;32m<ipython-input-66-22212d13ea02>\u001b[0m in \u001b[0;36m<module>\u001b[0;34m()\u001b[0m\n\u001b[1;32m      6\u001b[0m \u001b[0mplt\u001b[0m\u001b[0;34m.\u001b[0m\u001b[0mautoscale\u001b[0m\u001b[0;34m(\u001b[0m\u001b[0maxis\u001b[0m\u001b[0;34m=\u001b[0m\u001b[0;34m'x'\u001b[0m\u001b[0;34m,\u001b[0m\u001b[0mtight\u001b[0m\u001b[0;34m=\u001b[0m\u001b[0;32mTrue\u001b[0m\u001b[0;34m)\u001b[0m\u001b[0;34m\u001b[0m\u001b[0;34m\u001b[0m\u001b[0m\n\u001b[1;32m      7\u001b[0m \u001b[0mplt\u001b[0m\u001b[0;34m.\u001b[0m\u001b[0mplot\u001b[0m\u001b[0;34m(\u001b[0m\u001b[0mdf\u001b[0m\u001b[0;34m[\u001b[0m\u001b[0;34m'Global_active_power'\u001b[0m\u001b[0;34m]\u001b[0m\u001b[0;34m[\u001b[0m\u001b[0;36m0\u001b[0m\u001b[0;34m:\u001b[0m\u001b[0;36m353\u001b[0m\u001b[0;34m]\u001b[0m\u001b[0;34m)\u001b[0m\u001b[0;34m\u001b[0m\u001b[0;34m\u001b[0m\u001b[0m\n\u001b[0;32m----> 8\u001b[0;31m \u001b[0mplt\u001b[0m\u001b[0;34m.\u001b[0m\u001b[0mplot\u001b[0m\u001b[0;34m(\u001b[0m\u001b[0mx\u001b[0m\u001b[0;34m,\u001b[0m\u001b[0mactual_predictions\u001b[0m\u001b[0;34m)\u001b[0m\u001b[0;34m\u001b[0m\u001b[0;34m\u001b[0m\u001b[0m\n\u001b[0m\u001b[1;32m      9\u001b[0m \u001b[0mplt\u001b[0m\u001b[0;34m.\u001b[0m\u001b[0mshow\u001b[0m\u001b[0;34m(\u001b[0m\u001b[0;34m)\u001b[0m\u001b[0;34m\u001b[0m\u001b[0;34m\u001b[0m\u001b[0m\n",
            "\u001b[0;31mNameError\u001b[0m: name 'actual_predictions' is not defined"
          ]
        },
        {
          "output_type": "display_data",
          "data": {
            "image/png": "[encoded data removed]",
            "text/plain": [
              "<Figure size 432x288 with 1 Axes>"
            ]
          },
          "metadata": {
            "tags": [],
            "needs_background": "light"
          }
        }
      ]
    }
  ]
}