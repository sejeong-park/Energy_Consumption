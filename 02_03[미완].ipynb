{
  "nbformat": 4,
  "nbformat_minor": 0,
  "metadata": {
    "colab": {
      "name": "02-03[미완]",
      "provenance": [],
      "collapsed_sections": [],
      "authorship_tag": "ABX9TyMI2+r/zAxNIBcaFNWXRGdQ",
      "include_colab_link": true
    },
    "kernelspec": {
      "name": "python3",
      "display_name": "Python 3"
    }
  },
  "cells": [
    {
      "cell_type": "markdown",
      "metadata": {
        "id": "view-in-github",
        "colab_type": "text"
      },
      "source": [
        "<a href=\"https://colab.research.google.com/github/sejeong-park/Energy_Consumption/blob/main/02_03%5B%EB%AF%B8%EC%99%84%5D.ipynb\" target=\"_parent\"><img src=\"https://colab.research.google.com/assets/colab-badge.svg\" alt=\"Open In Colab\"/></a>"
      ]
    },
    {
      "cell_type": "code",
      "metadata": {
        "id": "ferYGSaE7Jkl"
      },
      "source": [
        "from numpy import nan\r\n",
        "from numpy import isnan\r\n",
        "from pandas import read_csv\r\n",
        "from pandas import to_numeric"
      ],
      "execution_count": 91,
      "outputs": []
    },
    {
      "cell_type": "code",
      "metadata": {
        "id": "3P-liVYR69ZV"
      },
      "source": [
        "dataset=read_csv('household_power_consumption.txt',sep=';',header=0,low_memory=False,infer_datetime_format=True,parse_dates={'datetime':[0,1]},index_col=['datetime'])"
      ],
      "execution_count": 92,
      "outputs": []
    },
    {
      "cell_type": "code",
      "metadata": {
        "colab": {
          "base_uri": "https://localhost:8080/",
          "height": 204
        },
        "id": "j32tew7d686w",
        "outputId": "0d7f260c-0e91-4282-c93e-d34b3e1258fb"
      },
      "source": [
        "dataset.head(4)"
      ],
      "execution_count": 93,
      "outputs": [
        {
          "output_type": "execute_result",
          "data": {
            "text/html": [
              "<div>\n",
              "<style scoped>\n",
              "    .dataframe tbody tr th:only-of-type {\n",
              "        vertical-align: middle;\n",
              "    }\n",
              "\n",
              "    .dataframe tbody tr th {\n",
              "        vertical-align: top;\n",
              "    }\n",
              "\n",
              "    .dataframe thead th {\n",
              "        text-align: right;\n",
              "    }\n",
              "</style>\n",
              "<table border=\"1\" class=\"dataframe\">\n",
              "  <thead>\n",
              "    <tr style=\"text-align: right;\">\n",
              "      <th></th>\n",
              "      <th>Global_active_power</th>\n",
              "      <th>Global_reactive_power</th>\n",
              "      <th>Voltage</th>\n",
              "      <th>Global_intensity</th>\n",
              "      <th>Sub_metering_1</th>\n",
              "      <th>Sub_metering_2</th>\n",
              "      <th>Sub_metering_3</th>\n",
              "    </tr>\n",
              "    <tr>\n",
              "      <th>datetime</th>\n",
              "      <th></th>\n",
              "      <th></th>\n",
              "      <th></th>\n",
              "      <th></th>\n",
              "      <th></th>\n",
              "      <th></th>\n",
              "      <th></th>\n",
              "    </tr>\n",
              "  </thead>\n",
              "  <tbody>\n",
              "    <tr>\n",
              "      <th>2006-12-16 17:24:00</th>\n",
              "      <td>4.216</td>\n",
              "      <td>0.418</td>\n",
              "      <td>234.840</td>\n",
              "      <td>18.400</td>\n",
              "      <td>0.000</td>\n",
              "      <td>1.000</td>\n",
              "      <td>17.0</td>\n",
              "    </tr>\n",
              "    <tr>\n",
              "      <th>2006-12-16 17:25:00</th>\n",
              "      <td>5.360</td>\n",
              "      <td>0.436</td>\n",
              "      <td>233.630</td>\n",
              "      <td>23.000</td>\n",
              "      <td>0.000</td>\n",
              "      <td>1.000</td>\n",
              "      <td>16.0</td>\n",
              "    </tr>\n",
              "    <tr>\n",
              "      <th>2006-12-16 17:26:00</th>\n",
              "      <td>5.374</td>\n",
              "      <td>0.498</td>\n",
              "      <td>233.290</td>\n",
              "      <td>23.000</td>\n",
              "      <td>0.000</td>\n",
              "      <td>2.000</td>\n",
              "      <td>17.0</td>\n",
              "    </tr>\n",
              "    <tr>\n",
              "      <th>2006-12-16 17:27:00</th>\n",
              "      <td>5.388</td>\n",
              "      <td>0.502</td>\n",
              "      <td>233.740</td>\n",
              "      <td>23.000</td>\n",
              "      <td>0.000</td>\n",
              "      <td>1.000</td>\n",
              "      <td>17.0</td>\n",
              "    </tr>\n",
              "  </tbody>\n",
              "</table>\n",
              "</div>"
            ],
            "text/plain": [
              "                    Global_active_power  ... Sub_metering_3\n",
              "datetime                                 ...               \n",
              "2006-12-16 17:24:00               4.216  ...           17.0\n",
              "2006-12-16 17:25:00               5.360  ...           16.0\n",
              "2006-12-16 17:26:00               5.374  ...           17.0\n",
              "2006-12-16 17:27:00               5.388  ...           17.0\n",
              "\n",
              "[4 rows x 7 columns]"
            ]
          },
          "metadata": {
            "tags": []
          },
          "execution_count": 93
        }
      ]
    },
    {
      "cell_type": "code",
      "metadata": {
        "id": "zft0hYa68j4U"
      },
      "source": [
        "def fill_missing(values):\r\n",
        "  one_day=60*24\r\n",
        "  for row in range(values.shape[0]):\r\n",
        "    for col in range(values.shape[1]):\r\n",
        "      if isnan(values[row,col]):\r\n",
        "        values[row, col]=values[row-one_day,col]"
      ],
      "execution_count": 94,
      "outputs": []
    },
    {
      "cell_type": "code",
      "metadata": {
        "id": "Ltz9Pr3p684V"
      },
      "source": [
        "dataset.replace('?',nan,inplace=True)"
      ],
      "execution_count": 95,
      "outputs": []
    },
    {
      "cell_type": "code",
      "metadata": {
        "id": "uiuelri36811"
      },
      "source": [
        "dataset=dataset.astype('float32')"
      ],
      "execution_count": 96,
      "outputs": []
    },
    {
      "cell_type": "code",
      "metadata": {
        "id": "jCnnzvWy68zM"
      },
      "source": [
        "fill_missing(dataset.values)"
      ],
      "execution_count": 97,
      "outputs": []
    },
    {
      "cell_type": "code",
      "metadata": {
        "id": "P1wARxpM68wd"
      },
      "source": [
        "values=dataset.values"
      ],
      "execution_count": 98,
      "outputs": []
    },
    {
      "cell_type": "code",
      "metadata": {
        "id": "5pgOOQXX68t_"
      },
      "source": [
        "dataset['sub_metering_4']=(values[:,0]*1000/60)-(values[:,4]+values[:,5]+values[:,6])"
      ],
      "execution_count": 100,
      "outputs": []
    },
    {
      "cell_type": "code",
      "metadata": {
        "id": "RtOw_aJ_68q_"
      },
      "source": [
        "dataset.to_csv('household_power_consumption.csv')"
      ],
      "execution_count": 102,
      "outputs": []
    },
    {
      "cell_type": "code",
      "metadata": {
        "colab": {
          "base_uri": "https://localhost:8080/",
          "height": 450
        },
        "id": "jlILqp_B68o1",
        "outputId": "3a59b7f1-7d25-4951-905a-68f41e4697ea"
      },
      "source": [
        "dataset"
      ],
      "execution_count": 101,
      "outputs": [
        {
          "output_type": "execute_result",
          "data": {
            "text/html": [
              "<div>\n",
              "<style scoped>\n",
              "    .dataframe tbody tr th:only-of-type {\n",
              "        vertical-align: middle;\n",
              "    }\n",
              "\n",
              "    .dataframe tbody tr th {\n",
              "        vertical-align: top;\n",
              "    }\n",
              "\n",
              "    .dataframe thead th {\n",
              "        text-align: right;\n",
              "    }\n",
              "</style>\n",
              "<table border=\"1\" class=\"dataframe\">\n",
              "  <thead>\n",
              "    <tr style=\"text-align: right;\">\n",
              "      <th></th>\n",
              "      <th>Global_active_power</th>\n",
              "      <th>Global_reactive_power</th>\n",
              "      <th>Voltage</th>\n",
              "      <th>Global_intensity</th>\n",
              "      <th>Sub_metering_1</th>\n",
              "      <th>Sub_metering_2</th>\n",
              "      <th>Sub_metering_3</th>\n",
              "      <th>sub_metering_4</th>\n",
              "    </tr>\n",
              "    <tr>\n",
              "      <th>datetime</th>\n",
              "      <th></th>\n",
              "      <th></th>\n",
              "      <th></th>\n",
              "      <th></th>\n",
              "      <th></th>\n",
              "      <th></th>\n",
              "      <th></th>\n",
              "      <th></th>\n",
              "    </tr>\n",
              "  </thead>\n",
              "  <tbody>\n",
              "    <tr>\n",
              "      <th>2006-12-16 17:24:00</th>\n",
              "      <td>4.216</td>\n",
              "      <td>0.418</td>\n",
              "      <td>234.839996</td>\n",
              "      <td>18.4</td>\n",
              "      <td>0.0</td>\n",
              "      <td>1.0</td>\n",
              "      <td>17.0</td>\n",
              "      <td>52.266670</td>\n",
              "    </tr>\n",
              "    <tr>\n",
              "      <th>2006-12-16 17:25:00</th>\n",
              "      <td>5.360</td>\n",
              "      <td>0.436</td>\n",
              "      <td>233.630005</td>\n",
              "      <td>23.0</td>\n",
              "      <td>0.0</td>\n",
              "      <td>1.0</td>\n",
              "      <td>16.0</td>\n",
              "      <td>72.333336</td>\n",
              "    </tr>\n",
              "    <tr>\n",
              "      <th>2006-12-16 17:26:00</th>\n",
              "      <td>5.374</td>\n",
              "      <td>0.498</td>\n",
              "      <td>233.289993</td>\n",
              "      <td>23.0</td>\n",
              "      <td>0.0</td>\n",
              "      <td>2.0</td>\n",
              "      <td>17.0</td>\n",
              "      <td>70.566666</td>\n",
              "    </tr>\n",
              "    <tr>\n",
              "      <th>2006-12-16 17:27:00</th>\n",
              "      <td>5.388</td>\n",
              "      <td>0.502</td>\n",
              "      <td>233.740005</td>\n",
              "      <td>23.0</td>\n",
              "      <td>0.0</td>\n",
              "      <td>1.0</td>\n",
              "      <td>17.0</td>\n",
              "      <td>71.800003</td>\n",
              "    </tr>\n",
              "    <tr>\n",
              "      <th>2006-12-16 17:28:00</th>\n",
              "      <td>3.666</td>\n",
              "      <td>0.528</td>\n",
              "      <td>235.679993</td>\n",
              "      <td>15.8</td>\n",
              "      <td>0.0</td>\n",
              "      <td>1.0</td>\n",
              "      <td>17.0</td>\n",
              "      <td>43.099998</td>\n",
              "    </tr>\n",
              "    <tr>\n",
              "      <th>...</th>\n",
              "      <td>...</td>\n",
              "      <td>...</td>\n",
              "      <td>...</td>\n",
              "      <td>...</td>\n",
              "      <td>...</td>\n",
              "      <td>...</td>\n",
              "      <td>...</td>\n",
              "      <td>...</td>\n",
              "    </tr>\n",
              "    <tr>\n",
              "      <th>2010-11-26 20:58:00</th>\n",
              "      <td>0.946</td>\n",
              "      <td>0.000</td>\n",
              "      <td>240.429993</td>\n",
              "      <td>4.0</td>\n",
              "      <td>0.0</td>\n",
              "      <td>0.0</td>\n",
              "      <td>0.0</td>\n",
              "      <td>15.766666</td>\n",
              "    </tr>\n",
              "    <tr>\n",
              "      <th>2010-11-26 20:59:00</th>\n",
              "      <td>0.944</td>\n",
              "      <td>0.000</td>\n",
              "      <td>240.000000</td>\n",
              "      <td>4.0</td>\n",
              "      <td>0.0</td>\n",
              "      <td>0.0</td>\n",
              "      <td>0.0</td>\n",
              "      <td>15.733334</td>\n",
              "    </tr>\n",
              "    <tr>\n",
              "      <th>2010-11-26 21:00:00</th>\n",
              "      <td>0.938</td>\n",
              "      <td>0.000</td>\n",
              "      <td>239.820007</td>\n",
              "      <td>3.8</td>\n",
              "      <td>0.0</td>\n",
              "      <td>0.0</td>\n",
              "      <td>0.0</td>\n",
              "      <td>15.633333</td>\n",
              "    </tr>\n",
              "    <tr>\n",
              "      <th>2010-11-26 21:01:00</th>\n",
              "      <td>0.934</td>\n",
              "      <td>0.000</td>\n",
              "      <td>239.699997</td>\n",
              "      <td>3.8</td>\n",
              "      <td>0.0</td>\n",
              "      <td>0.0</td>\n",
              "      <td>0.0</td>\n",
              "      <td>15.566667</td>\n",
              "    </tr>\n",
              "    <tr>\n",
              "      <th>2010-11-26 21:02:00</th>\n",
              "      <td>0.932</td>\n",
              "      <td>0.000</td>\n",
              "      <td>239.550003</td>\n",
              "      <td>3.8</td>\n",
              "      <td>0.0</td>\n",
              "      <td>0.0</td>\n",
              "      <td>0.0</td>\n",
              "      <td>15.533334</td>\n",
              "    </tr>\n",
              "  </tbody>\n",
              "</table>\n",
              "<p>2075259 rows × 8 columns</p>\n",
              "</div>"
            ],
            "text/plain": [
              "                     Global_active_power  ...  sub_metering_4\n",
              "datetime                                  ...                \n",
              "2006-12-16 17:24:00                4.216  ...       52.266670\n",
              "2006-12-16 17:25:00                5.360  ...       72.333336\n",
              "2006-12-16 17:26:00                5.374  ...       70.566666\n",
              "2006-12-16 17:27:00                5.388  ...       71.800003\n",
              "2006-12-16 17:28:00                3.666  ...       43.099998\n",
              "...                                  ...  ...             ...\n",
              "2010-11-26 20:58:00                0.946  ...       15.766666\n",
              "2010-11-26 20:59:00                0.944  ...       15.733334\n",
              "2010-11-26 21:00:00                0.938  ...       15.633333\n",
              "2010-11-26 21:01:00                0.934  ...       15.566667\n",
              "2010-11-26 21:02:00                0.932  ...       15.533334\n",
              "\n",
              "[2075259 rows x 8 columns]"
            ]
          },
          "metadata": {
            "tags": []
          },
          "execution_count": 101
        }
      ]
    },
    {
      "cell_type": "markdown",
      "metadata": {
        "id": "n0OqDvpATHwT"
      },
      "source": [
        "최근 전력 소비를 감안할 때 앞으로 한 주 동안 예상되는 전력소비\r\n",
        "\r\n",
        "예측 모델이 향후 7일 동안 매일의 활성 전력 예측\r\n",
        "\r\n",
        "문제의 프레임은 여러 예측 단계를 감안할 때 다단계 타임시리즈 예측 문제로 지칭\r\n",
        "\r\n",
        "다중 입력 변수를 사용하는 모델-> 다변량 다단계 연속 전위 예측 모델\r\n",
        "\r\n",
        "전력 소비의 관측-> 일일 합계로 다운 샘플링\r\n"
      ]
    },
    {
      "cell_type": "code",
      "metadata": {
        "colab": {
          "base_uri": "https://localhost:8080/"
        },
        "id": "4YZquVZiSghc",
        "outputId": "d085f71c-7080-4625-e78a-3d262d0ec1ac"
      },
      "source": [
        "from pandas import read_csv\r\n",
        "dataset=read_csv('household_power_consumption.csv',header=0,infer_datetime_format=True,parse_dates=['datetime'],index_col=['datetime'])\r\n",
        "#resample data to daily\r\n",
        "daily_groups=dataset.resample('D')\r\n",
        "daily_data=daily_groups.sum()\r\n",
        "#summarize\r\n",
        "print(daily_data.shape)\r\n",
        "print(daily_data.head())\r\n"
      ],
      "execution_count": 103,
      "outputs": [
        {
          "output_type": "stream",
          "text": [
            "(1442, 8)\n",
            "            Global_active_power  ...  sub_metering_4\n",
            "datetime                         ...                \n",
            "2006-12-16             1209.176  ...    14680.933319\n",
            "2006-12-17             3390.460  ...    36946.666732\n",
            "2006-12-18             2203.826  ...    19028.433281\n",
            "2006-12-19             1666.194  ...    13131.900043\n",
            "2006-12-20             2225.748  ...    20384.800011\n",
            "\n",
            "[5 rows x 8 columns]\n"
          ],
          "name": "stdout"
        }
      ]
    },
    {
      "cell_type": "code",
      "metadata": {
        "id": "SW4pc3H6UNoa"
      },
      "source": [
        "daily_data.to_csv('household_power_consumption_days.csv')\r\n",
        "daily_data=daily_data.astype('float32')"
      ],
      "execution_count": 104,
      "outputs": []
    },
    {
      "cell_type": "markdown",
      "metadata": {
        "id": "SP4c_K2XO4_G"
      },
      "source": [
        "예측은 7개의 값으로 구성-> 일주일동안 매일 하나씩\r\n"
      ]
    },
    {
      "cell_type": "code",
      "metadata": {
        "id": "HAGC2kapRj0c"
      },
      "source": [
        "from numpy import split\r\n",
        "from numpy import array\r\n",
        "from pandas import read_csv"
      ],
      "execution_count": 105,
      "outputs": []
    },
    {
      "cell_type": "code",
      "metadata": {
        "id": "C-TiMzBU68gt"
      },
      "source": [
        "#예측 평가\r\n",
        "def evaluate_forecasts(actual,predicted):\r\n",
        "  scores=list()\r\n",
        "  #calculate an RMSE score for each day\r\n",
        "  for i in range(actual.shape[1]):\r\n",
        "    #calculate mse\r\n",
        "    mse=mean_squared_error(actual[:,i],predicted[:,i])\r\n",
        "    #calculate rmse\r\n",
        "    rmse=sqrt(mse)\r\n",
        "    #store\r\n",
        "    scores.append(rmse)\r\n",
        "  #calculate overall RMSE\r\n",
        "  s=0\r\n",
        "  for row in range(actual.shape[0]):\r\n",
        "    for col in range(actural.shape[1]):\r\n",
        "      s+=(actual[row,col]-predicted[row,col])**2\r\n",
        "  score=sqrt(s/(actual.shape[0]*actual.shape[1]))\r\n",
        "  return score,scores\r\n",
        "                    \r\n"
      ],
      "execution_count": 106,
      "outputs": []
    },
    {
      "cell_type": "code",
      "metadata": {
        "id": "VvVBh_j97AIN"
      },
      "source": [
        "#split a univariate dataset into train.test sets\r\n",
        "def split_dataset(data):\r\n",
        "  #split into standard weeks\r\n",
        "  train,test=data[1:-328],data[-328:-6]\r\n",
        "  #restructure into window of weekly data\r\n",
        "  train=array(split(train,len(train)/7))\r\n",
        "  test=array(split(test,len(test)/7))\r\n",
        "  return train, test"
      ],
      "execution_count": 107,
      "outputs": []
    },
    {
      "cell_type": "code",
      "metadata": {
        "colab": {
          "base_uri": "https://localhost:8080/",
          "height": 450
        },
        "id": "iGUWJUWSVIGp",
        "outputId": "fbda3c29-9a7d-4c3d-dac5-89a24ee833e2"
      },
      "source": [
        "dataset"
      ],
      "execution_count": 108,
      "outputs": [
        {
          "output_type": "execute_result",
          "data": {
            "text/html": [
              "<div>\n",
              "<style scoped>\n",
              "    .dataframe tbody tr th:only-of-type {\n",
              "        vertical-align: middle;\n",
              "    }\n",
              "\n",
              "    .dataframe tbody tr th {\n",
              "        vertical-align: top;\n",
              "    }\n",
              "\n",
              "    .dataframe thead th {\n",
              "        text-align: right;\n",
              "    }\n",
              "</style>\n",
              "<table border=\"1\" class=\"dataframe\">\n",
              "  <thead>\n",
              "    <tr style=\"text-align: right;\">\n",
              "      <th></th>\n",
              "      <th>Global_active_power</th>\n",
              "      <th>Global_reactive_power</th>\n",
              "      <th>Voltage</th>\n",
              "      <th>Global_intensity</th>\n",
              "      <th>Sub_metering_1</th>\n",
              "      <th>Sub_metering_2</th>\n",
              "      <th>Sub_metering_3</th>\n",
              "      <th>sub_metering_4</th>\n",
              "    </tr>\n",
              "    <tr>\n",
              "      <th>datetime</th>\n",
              "      <th></th>\n",
              "      <th></th>\n",
              "      <th></th>\n",
              "      <th></th>\n",
              "      <th></th>\n",
              "      <th></th>\n",
              "      <th></th>\n",
              "      <th></th>\n",
              "    </tr>\n",
              "  </thead>\n",
              "  <tbody>\n",
              "    <tr>\n",
              "      <th>2006-12-16 17:24:00</th>\n",
              "      <td>4.216</td>\n",
              "      <td>0.418</td>\n",
              "      <td>234.84</td>\n",
              "      <td>18.4</td>\n",
              "      <td>0.0</td>\n",
              "      <td>1.0</td>\n",
              "      <td>17.0</td>\n",
              "      <td>52.266670</td>\n",
              "    </tr>\n",
              "    <tr>\n",
              "      <th>2006-12-16 17:25:00</th>\n",
              "      <td>5.360</td>\n",
              "      <td>0.436</td>\n",
              "      <td>233.63</td>\n",
              "      <td>23.0</td>\n",
              "      <td>0.0</td>\n",
              "      <td>1.0</td>\n",
              "      <td>16.0</td>\n",
              "      <td>72.333336</td>\n",
              "    </tr>\n",
              "    <tr>\n",
              "      <th>2006-12-16 17:26:00</th>\n",
              "      <td>5.374</td>\n",
              "      <td>0.498</td>\n",
              "      <td>233.29</td>\n",
              "      <td>23.0</td>\n",
              "      <td>0.0</td>\n",
              "      <td>2.0</td>\n",
              "      <td>17.0</td>\n",
              "      <td>70.566666</td>\n",
              "    </tr>\n",
              "    <tr>\n",
              "      <th>2006-12-16 17:27:00</th>\n",
              "      <td>5.388</td>\n",
              "      <td>0.502</td>\n",
              "      <td>233.74</td>\n",
              "      <td>23.0</td>\n",
              "      <td>0.0</td>\n",
              "      <td>1.0</td>\n",
              "      <td>17.0</td>\n",
              "      <td>71.800000</td>\n",
              "    </tr>\n",
              "    <tr>\n",
              "      <th>2006-12-16 17:28:00</th>\n",
              "      <td>3.666</td>\n",
              "      <td>0.528</td>\n",
              "      <td>235.68</td>\n",
              "      <td>15.8</td>\n",
              "      <td>0.0</td>\n",
              "      <td>1.0</td>\n",
              "      <td>17.0</td>\n",
              "      <td>43.100000</td>\n",
              "    </tr>\n",
              "    <tr>\n",
              "      <th>...</th>\n",
              "      <td>...</td>\n",
              "      <td>...</td>\n",
              "      <td>...</td>\n",
              "      <td>...</td>\n",
              "      <td>...</td>\n",
              "      <td>...</td>\n",
              "      <td>...</td>\n",
              "      <td>...</td>\n",
              "    </tr>\n",
              "    <tr>\n",
              "      <th>2010-11-26 20:58:00</th>\n",
              "      <td>0.946</td>\n",
              "      <td>0.000</td>\n",
              "      <td>240.43</td>\n",
              "      <td>4.0</td>\n",
              "      <td>0.0</td>\n",
              "      <td>0.0</td>\n",
              "      <td>0.0</td>\n",
              "      <td>15.766666</td>\n",
              "    </tr>\n",
              "    <tr>\n",
              "      <th>2010-11-26 20:59:00</th>\n",
              "      <td>0.944</td>\n",
              "      <td>0.000</td>\n",
              "      <td>240.00</td>\n",
              "      <td>4.0</td>\n",
              "      <td>0.0</td>\n",
              "      <td>0.0</td>\n",
              "      <td>0.0</td>\n",
              "      <td>15.733334</td>\n",
              "    </tr>\n",
              "    <tr>\n",
              "      <th>2010-11-26 21:00:00</th>\n",
              "      <td>0.938</td>\n",
              "      <td>0.000</td>\n",
              "      <td>239.82</td>\n",
              "      <td>3.8</td>\n",
              "      <td>0.0</td>\n",
              "      <td>0.0</td>\n",
              "      <td>0.0</td>\n",
              "      <td>15.633333</td>\n",
              "    </tr>\n",
              "    <tr>\n",
              "      <th>2010-11-26 21:01:00</th>\n",
              "      <td>0.934</td>\n",
              "      <td>0.000</td>\n",
              "      <td>239.70</td>\n",
              "      <td>3.8</td>\n",
              "      <td>0.0</td>\n",
              "      <td>0.0</td>\n",
              "      <td>0.0</td>\n",
              "      <td>15.566667</td>\n",
              "    </tr>\n",
              "    <tr>\n",
              "      <th>2010-11-26 21:02:00</th>\n",
              "      <td>0.932</td>\n",
              "      <td>0.000</td>\n",
              "      <td>239.55</td>\n",
              "      <td>3.8</td>\n",
              "      <td>0.0</td>\n",
              "      <td>0.0</td>\n",
              "      <td>0.0</td>\n",
              "      <td>15.533334</td>\n",
              "    </tr>\n",
              "  </tbody>\n",
              "</table>\n",
              "<p>2075259 rows × 8 columns</p>\n",
              "</div>"
            ],
            "text/plain": [
              "                     Global_active_power  ...  sub_metering_4\n",
              "datetime                                  ...                \n",
              "2006-12-16 17:24:00                4.216  ...       52.266670\n",
              "2006-12-16 17:25:00                5.360  ...       72.333336\n",
              "2006-12-16 17:26:00                5.374  ...       70.566666\n",
              "2006-12-16 17:27:00                5.388  ...       71.800000\n",
              "2006-12-16 17:28:00                3.666  ...       43.100000\n",
              "...                                  ...  ...             ...\n",
              "2010-11-26 20:58:00                0.946  ...       15.766666\n",
              "2010-11-26 20:59:00                0.944  ...       15.733334\n",
              "2010-11-26 21:00:00                0.938  ...       15.633333\n",
              "2010-11-26 21:01:00                0.934  ...       15.566667\n",
              "2010-11-26 21:02:00                0.932  ...       15.533334\n",
              "\n",
              "[2075259 rows x 8 columns]"
            ]
          },
          "metadata": {
            "tags": []
          },
          "execution_count": 108
        }
      ]
    },
    {
      "cell_type": "markdown",
      "metadata": {
        "id": "yfGLiDdtV-ST"
      },
      "source": [
        "테스트 데이터와 트레이닝 데이터로 분할하기 "
      ]
    },
    {
      "cell_type": "code",
      "metadata": {
        "id": "XnUAD0GLSCHk"
      },
      "source": [
        "def split_dataset(data):\r\n",
        "\t# split into standard weeks\r\n",
        "\ttrain, test = data[1:-328], data[-328:-6]\r\n",
        "\t# restructure into windows of weekly data\r\n",
        "\ttrain = array(split(train, len(train)/7))\r\n",
        "\ttest = array(split(test, len(test)/7))\r\n",
        "\treturn train, test"
      ],
      "execution_count": 134,
      "outputs": []
    },
    {
      "cell_type": "code",
      "metadata": {
        "colab": {
          "base_uri": "https://localhost:8080/"
        },
        "id": "xAXwhJxo7AFl",
        "outputId": "b4ef82cd-270b-40e8-d683-8b51f16d94d6"
      },
      "source": [
        "dataset=read_csv('household_power_consumption_days.csv',header=0,infer_datetime_format=True,parse_dates=['datetime'],index_col=['datetime'])\r\n",
        "dataset=daily_data.astype('float32')\r\n",
        "train, test = split_dataset(dataset.values)\r\n",
        "#validate train data\r\n",
        "print(train.shape)\r\n",
        "print(train[0,0,0],train[-1,-1,0])\r\n",
        "#validate test\r\n",
        "print(test.shape)\r\n",
        "print(test[0,0,0],test[-1,-1,0])"
      ],
      "execution_count": 135,
      "outputs": [
        {
          "output_type": "stream",
          "text": [
            "(159, 7, 8)\n",
            "3390.46 1309.268\n",
            "(46, 7, 8)\n",
            "2083.454 2197.006\n"
          ],
          "name": "stdout"
        }
      ]
    },
    {
      "cell_type": "markdown",
      "metadata": {
        "id": "kLa9VWOfV8Th"
      },
      "source": [
        "예제를 실행하면 트레인 데이터 159주의 데이터와 테스트 데이터 46주\r\n"
      ]
    },
    {
      "cell_type": "code",
      "metadata": {
        "id": "LzvI9tMd7AC9"
      },
      "source": [
        "#모델 평가\r\n",
        "#evaluate_forcasts\r\n",
        "\r\n",
        "def evaluate_mode(model_func,train,test):\r\n",
        "  #history is a list of weekly data\r\n",
        "  history=[x for x in train]\r\n",
        "  #walk-forward validation over each week\r\n",
        "  predictions=list()\r\n",
        "  for i in range(len(test)):\r\n",
        "    #predict the week\r\n",
        "    yhat_sequence=model_func(history)\r\n",
        "    #store the predictions\r\n",
        "    predictions.append(yhat_sequence)\r\n",
        "    #get real observation and add to history for predicting the next week\r\n",
        "    history.append(test[i,:])\r\n",
        "  predictions=array(predictions)\r\n",
        "  #evaluate predictions days for each week\r\n",
        "  score,scores=evaluate_forecasts(test[:,:,0],predictions)\r\n",
        "  return score, scores\r\n"
      ],
      "execution_count": 136,
      "outputs": []
    },
    {
      "cell_type": "code",
      "metadata": {
        "id": "Upu0zM6V7AAF"
      },
      "source": [
        "#summarize scores-> 모델의 성능을 단일 라인으로 표시하여 다른 모델과 쉽게 비교\r\n",
        "def summarize_scores(name, score,scores):\r\n",
        "  s_scores=','.join(['%.1f'%s for s in scores])\r\n"
      ],
      "execution_count": 137,
      "outputs": []
    },
    {
      "cell_type": "code",
      "metadata": {
        "id": "5TOIHzdwWUrZ"
      },
      "source": [
        ""
      ],
      "execution_count": null,
      "outputs": []
    },
    {
      "cell_type": "markdown",
      "metadata": {
        "id": "2sHVbRnpZ1Le"
      },
      "source": [
        "to_series 함수는 Weekly 창으로 나눈 다변량 데이터를 가져와서 단일 시계열을 변환한다. "
      ]
    },
    {
      "cell_type": "code",
      "metadata": {
        "id": "pzTIJ7qjWUpC"
      },
      "source": [
        "#convert windows of weekly multivariate data into a series of total power\r\n",
        "def to_series(data):\r\n",
        "  #extract just the total power from each week\r\n",
        "  series=[week[:,0] for week in data]\r\n",
        "  #flatten into a single series\r\n",
        "  series=array(series).flatten()\r\n",
        "  return series"
      ],
      "execution_count": 149,
      "outputs": []
    },
    {
      "cell_type": "code",
      "metadata": {
        "id": "oIKon3fGWUlw"
      },
      "source": [
        "#일일 전력 소비 데이터 집합 로드\r\n",
        "dataset=read_csv('household_power_consumption_days.csv',header=0,infer_datetime_format=True,parse_dates=['datetime'],index_col=['datetime'])"
      ],
      "execution_count": 150,
      "outputs": []
    },
    {
      "cell_type": "code",
      "metadata": {
        "id": "g9-1O16bWUi4"
      },
      "source": [
        "#다시 일일 전력 소비 데이터를 로드한거\r\n",
        "#train, test 데이터 셋으로 분할\r\n",
        "train, test=split_dataset(dataset.values)"
      ],
      "execution_count": 151,
      "outputs": []
    },
    {
      "cell_type": "code",
      "metadata": {
        "id": "PgwigBFlWUgP"
      },
      "source": [
        "#트레인 데이터에서 일변수 시계열 시리즈 추출\r\n",
        "#convert training data into a series\r\n",
        "series=to_series(train)"
      ],
      "execution_count": 152,
      "outputs": []
    },
    {
      "cell_type": "markdown",
      "metadata": {
        "id": "BSYcONinfWJh"
      },
      "source": [
        "# 자기 회귀 패턴 PLOT\r\n",
        "\r\n",
        "ACF : 지연이 증가함에 따라 서서히 저하되는 다수의 중요한 지여 관측치\r\n",
        "\r\n",
        "PACF : 지연이 증가함에 따라 갑자기 떨어지는 몇 가지 중요한 지연 관측치\r\n"
      ]
    },
    {
      "cell_type": "code",
      "metadata": {
        "colab": {
          "base_uri": "https://localhost:8080/",
          "height": 625
        },
        "id": "7kGxBVn6WV1f",
        "outputId": "0c5f958c-6be7-42c1-a773-29a345e2645a"
      },
      "source": [
        "#plot\r\n",
        "\r\n",
        "from matplotlib import pyplot\r\n",
        "from statsmodels.graphics.tsaplots import plot_acf\r\n",
        "from statsmodels.graphics.tsaplots import plot_pacf\r\n",
        "\r\n",
        "pyplot.figure()\r\n",
        "#lag는 지연 관측치\r\n",
        "lags=365\r\n",
        "\r\n",
        "plt.figure(figsize=(15,10))\r\n",
        "\r\n",
        "#acf\r\n",
        "axis=pyplot.subplot(2,1,1)\r\n",
        "plot_acf(series,ax=axis,lags=lags)\r\n",
        "#pacf\r\n",
        "axis=pyplot.subplot(2,1,2)\r\n",
        "plot_pacf(series,ax=axis,lags=lags)\r\n",
        "#show plot\r\n",
        "pyplot.show()"
      ],
      "execution_count": 156,
      "outputs": [
        {
          "output_type": "display_data",
          "data": {
            "text/plain": [
              "<Figure size 432x288 with 0 Axes>"
            ]
          },
          "metadata": {
            "tags": []
          }
        },
        {
          "output_type": "display_data",
          "data": {
            "image/png": "[encoded data removed]",
            "text/plain": [
              "<Figure size 1080x720 with 2 Axes>"
            ]
          },
          "metadata": {
            "tags": [],
            "needs_background": "light"
          }
        }
      ]
    },
    {
      "cell_type": "markdown",
      "metadata": {
        "id": "TiWnFTR1fLHz"
      },
      "source": [
        "PLOT 을 확대하고 지연 관찰 수를 365에서 50으로 변경"
      ]
    },
    {
      "cell_type": "code",
      "metadata": {
        "colab": {
          "base_uri": "https://localhost:8080/",
          "height": 625
        },
        "id": "iZonlDjzWVwE",
        "outputId": "9b18e123-72b7-448b-a7c4-0f378f877d6a"
      },
      "source": [
        "#plot\r\n",
        "\r\n",
        "pyplot.figure()\r\n",
        "lags=50\r\n",
        "\r\n",
        "plt.figure(figsize=(15,10))\r\n",
        "\r\n",
        "#acf\r\n",
        "axis=pyplot.subplot(2,1,1)\r\n",
        "plot_acf(series,ax=axis,lags=lags)\r\n",
        "#pacf\r\n",
        "axis=pyplot.subplot(2,1,2)\r\n",
        "plot_pacf(series,ax=axis,lags=lags)\r\n",
        "#show plot\r\n",
        "pyplot.show()"
      ],
      "execution_count": 157,
      "outputs": [
        {
          "output_type": "display_data",
          "data": {
            "text/plain": [
              "<Figure size 432x288 with 0 Axes>"
            ]
          },
          "metadata": {
            "tags": []
          }
        },
        {
          "output_type": "display_data",
          "data": {
            "image/png": "[encoded data removed]",
            "text/plain": [
              "<Figure size 1080x720 with 2 Axes>"
            ]
          },
          "metadata": {
            "tags": [],
            "needs_background": "light"
          }
        }
      ]
    },
    {
      "cell_type": "markdown",
      "metadata": {
        "id": "W0XpnW0tg2t6"
      },
      "source": [
        "**일일 전력 소비의 일변량 시리즈에 대한 자기 회귀 모델 개발**\r\n",
        "\r\n",
        "Sratemodels 라이브러리는 AR,ARMA,ARIMA, SARIMA 클래스 사용과 같은 AR 모델 개발 여러 방법 제공\r\n",
        "\r\n",
        "ARIMA 구현을 통해 차이 및 이동 평균 확장\r\n"
      ]
    },
    {
      "cell_type": "code",
      "metadata": {
        "id": "Mfhhj71fi61G"
      },
      "source": [
        "from statsmodels.tsa.arima_model import ARIMA"
      ],
      "execution_count": 12,
      "outputs": []
    },
    {
      "cell_type": "code",
      "metadata": {
        "id": "VIBmr3abizDv"
      },
      "source": [
        "\r\n",
        "\r\n",
        "# arima forecast\r\n",
        "def arima_forecast(history):\r\n",
        "\t# convert history into a univariate series\r\n",
        "\tseries = to_series(history)\r\n",
        "\t# define the model\r\n",
        "\tmodel = ARIMA(series, order=(7,0,0))\r\n",
        "\t# fit the model\r\n",
        "\tmodel_fit = model.fit()\r\n",
        "\t# make forecast\r\n",
        "\tyhat = model_fit.predict(len(series), len(series)+6)\r\n",
        "\treturn yhat"
      ],
      "execution_count": 172,
      "outputs": []
    },
    {
      "cell_type": "code",
      "metadata": {
        "colab": {
          "base_uri": "https://localhost:8080/",
          "height": 208
        },
        "id": "X0ctDQtYg2nA",
        "outputId": "4ea814e2-4d46-414e-c9e4-04d2394ff1c1"
      },
      "source": [
        "#몇 주 동안 과거 관찰로 구성된 히스토리 데이터-> 일일 전력 소비의 일변량 시계열 데이터로 변환\r\n",
        "#convert history into a univariate series\r\n",
        "series=to_series(history)"
      ],
      "execution_count": 158,
      "outputs": [
        {
          "output_type": "error",
          "ename": "NameError",
          "evalue": "ignored",
          "traceback": [
            "\u001b[0;31m---------------------------------------------------------------------------\u001b[0m",
            "\u001b[0;31mNameError\u001b[0m                                 Traceback (most recent call last)",
            "\u001b[0;32m<ipython-input-158-065f32071888>\u001b[0m in \u001b[0;36m<module>\u001b[0;34m()\u001b[0m\n\u001b[1;32m      1\u001b[0m \u001b[0;31m#몇 주 동안 과거 관찰로 구성된 히스토리 데이터-> 일일 전력 소비의 일변량 시계열 데이터로 변환\u001b[0m\u001b[0;34m\u001b[0m\u001b[0;34m\u001b[0m\u001b[0;34m\u001b[0m\u001b[0m\n\u001b[1;32m      2\u001b[0m \u001b[0;31m#convert history into a univariate series\u001b[0m\u001b[0;34m\u001b[0m\u001b[0;34m\u001b[0m\u001b[0;34m\u001b[0m\u001b[0m\n\u001b[0;32m----> 3\u001b[0;31m \u001b[0mseries\u001b[0m\u001b[0;34m=\u001b[0m\u001b[0mto_series\u001b[0m\u001b[0;34m(\u001b[0m\u001b[0mhistory\u001b[0m\u001b[0;34m)\u001b[0m\u001b[0;34m\u001b[0m\u001b[0;34m\u001b[0m\u001b[0m\n\u001b[0m",
            "\u001b[0;31mNameError\u001b[0m: name 'history' is not defined"
          ]
        }
      ]
    },
    {
      "cell_type": "code",
      "metadata": {
        "colab": {
          "base_uri": "https://localhost:8080/",
          "height": 283
        },
        "id": "rY-yDIkng0yQ",
        "outputId": "5bfc4af9-b0a1-46e3-e4da-d9a5ac9b6eb7"
      },
      "source": [
        "\r\n",
        "# arima forecast\r\n",
        "from math import sqrt\r\n",
        "from numpy import split\r\n",
        "from numpy import array\r\n",
        "from pandas import read_csv\r\n",
        "from sklearn.metrics import mean_squared_error\r\n",
        "from matplotlib import pyplot\r\n",
        "from statsmodels.tsa.arima_model import ARIMA\r\n",
        " \r\n",
        "# split a univariate dataset into train/test sets\r\n",
        "def split_dataset(data):\r\n",
        "\t# split into standard weeks\r\n",
        "\ttrain, test = data[1:-328], data[-328:-6]\r\n",
        "\t# restructure into windows of weekly data\r\n",
        "\ttrain = array(split(train, len(train)/7))\r\n",
        "\ttest = array(split(test, len(test)/7))\r\n",
        "\treturn train, test\r\n",
        " \r\n",
        "# evaluate one or more weekly forecasts against expected values\r\n",
        "def evaluate_forecasts(actual, predicted):\r\n",
        "\tscores = list()\r\n",
        "\t# calculate an RMSE score for each day\r\n",
        "\tfor i in range(actual.shape[1]):\r\n",
        "\t\t# calculate mse\r\n",
        "\t\tmse = mean_squared_error(actual[:, i], predicted[:, i])\r\n",
        "\t\t# calculate rmse\r\n",
        "\t\trmse = sqrt(mse)\r\n",
        "\t\t# store\r\n",
        "\t\tscores.append(rmse)\r\n",
        "\t# calculate overall RMSE\r\n",
        "\ts = 0\r\n",
        "\tfor row in range(actual.shape[0]):\r\n",
        "\t\tfor col in range(actual.shape[1]):\r\n",
        "\t\t\ts += (actual[row, col] - predicted[row, col])**2\r\n",
        "\tscore = sqrt(s / (actual.shape[0] * actual.shape[1]))\r\n",
        "\treturn score, scores\r\n",
        " \r\n",
        "# summarize scores\r\n",
        "def summarize_scores(name, score, scores):\r\n",
        "\ts_scores = ', '.join(['%.1f' % s for s in scores])\r\n",
        "\tprint('%s: [%.3f] %s' % (name, score, s_scores))\r\n",
        " \r\n",
        "# evaluate a single model\r\n",
        "def evaluate_model(model_func, train, test):\r\n",
        "\t# history is a list of weekly data\r\n",
        "\thistory = [x for x in train]\r\n",
        "\t# walk-forward validation over each week\r\n",
        "\tpredictions = list()\r\n",
        "\tfor i in range(len(test)):\r\n",
        "\t\t# predict the week\r\n",
        "\t\tyhat_sequence = model_func(history)\r\n",
        "\t\t# store the predictions\r\n",
        "\t\tpredictions.append(yhat_sequence)\r\n",
        "\t\t# get real observation and add to history for predicting the next week\r\n",
        "\t\thistory.append(test[i, :])\r\n",
        "\tpredictions = array(predictions)\r\n",
        "\t# evaluate predictions days for each week\r\n",
        "\tscore, scores = evaluate_forecasts(test[:, :, 0], predictions)\r\n",
        "\treturn score, scores\r\n",
        " \r\n",
        "# convert windows of weekly multivariate data into a series of total power\r\n",
        "def to_series(data):\r\n",
        "\t# extract just the total power from each week\r\n",
        "\tseries = [week[:, 0] for week in data]\r\n",
        "\t# flatten into a single series\r\n",
        "\tseries = array(series).flatten()\r\n",
        "\treturn series\r\n",
        " \r\n",
        "# arima forecast\r\n",
        "def arima_forecast(history):\r\n",
        "\t# convert history into a univariate series\r\n",
        "\tseries = to_series(history)\r\n",
        "\t# define the model\r\n",
        "\tmodel = ARIMA(series, order=(7,0,0))\r\n",
        "\t# fit the model\r\n",
        "\tmodel_fit = model.fit()\r\n",
        "\t# make forecast\r\n",
        "\tyhat = model_fit.predict(len(series), len(series)+6)\r\n",
        "\treturn yhat\r\n",
        " \r\n",
        "# load the new file\r\n",
        "dataset = read_csv('household_power_consumption_days.csv', header=0, infer_datetime_format=True, parse_dates=['datetime'], index_col=['datetime'])\r\n",
        "# split into train and test\r\n",
        "train, test = split_dataset(dataset.values)\r\n",
        "# define the names and functions for the models we wish to evaluate\r\n",
        "models = dict()\r\n",
        "models['arima'] = arima_forecast\r\n",
        "# evaluate each model\r\n",
        "days = ['sun', 'mon', 'tue', 'wed', 'thr', 'fri', 'sat']\r\n",
        "for name, func in models.items():\r\n",
        "\t# evaluate and get scores\r\n",
        "\tscore, scores = evaluate_model(func, train, test)\r\n",
        "\t# summarize scores\r\n",
        "\tsummarize_scores(name, score, scores)\r\n",
        "\t# plot scores\r\n",
        "\tpyplot.plot(days, scores, marker='o', label=name)\r\n",
        "# show plot\r\n",
        "pyplot.legend()\\\r\n",
        "\r\n",
        "\r\n",
        "\r\n",
        "\r\n",
        "\r\n",
        "\r\n",
        "\r\n",
        "   \r\n",
        "\r\n",
        "    \r\n",
        "pyplot.show()"
      ],
      "execution_count": 13,
      "outputs": [
        {
          "output_type": "stream",
          "text": [
            "arima: [381.645] 393.8, 398.9, 357.0, 377.2, 393.9, 306.0, 432.2\n"
          ],
          "name": "stdout"
        },
        {
          "output_type": "display_data",
          "data": {
            "image/png": "[encoded data removed]",
            "text/plain": [
              "<Figure size 432x288 with 1 Axes>"
            ]
          },
          "metadata": {
            "tags": [],
            "needs_background": "light"
          }
        }
      ]
    },
    {
      "cell_type": "code",
      "metadata": {
        "id": "5r3ZQMoJWVd2"
      },
      "source": [
        ""
      ],
      "execution_count": null,
      "outputs": []
    },
    {
      "cell_type": "code",
      "metadata": {
        "id": "I9y774R7WVbY"
      },
      "source": [
        ""
      ],
      "execution_count": null,
      "outputs": []
    },
    {
      "cell_type": "code",
      "metadata": {
        "id": "OkYvLce0WVYi"
      },
      "source": [
        ""
      ],
      "execution_count": null,
      "outputs": []
    },
    {
      "cell_type": "code",
      "metadata": {
        "id": "4FLVlnuRWVWC"
      },
      "source": [
        ""
      ],
      "execution_count": null,
      "outputs": []
    },
    {
      "cell_type": "code",
      "metadata": {
        "id": "dcxeTS9VWVTV"
      },
      "source": [
        ""
      ],
      "execution_count": null,
      "outputs": []
    },
    {
      "cell_type": "code",
      "metadata": {
        "id": "wJFexG4yWVQx"
      },
      "source": [
        ""
      ],
      "execution_count": null,
      "outputs": []
    },
    {
      "cell_type": "code",
      "metadata": {
        "id": "PEziuGkNWVOJ"
      },
      "source": [
        ""
      ],
      "execution_count": null,
      "outputs": []
    },
    {
      "cell_type": "code",
      "metadata": {
        "id": "Q9avA3XdWUdY"
      },
      "source": [
        ""
      ],
      "execution_count": null,
      "outputs": []
    },
    {
      "cell_type": "code",
      "metadata": {
        "id": "K_NVZ6U8WUZX"
      },
      "source": [
        ""
      ],
      "execution_count": null,
      "outputs": []
    }
  ]
}