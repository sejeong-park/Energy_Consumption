{
  "nbformat": 4,
  "nbformat_minor": 0,
  "metadata": {
    "colab": {
      "name": "Household_Electricity_Consumption using CNN-LSTM",
      "provenance": [],
      "authorship_tag": "ABX9TyP9LaNJl66ZFTOb0jUHiDgs",
      "include_colab_link": true
    },
    "kernelspec": {
      "name": "python3",
      "display_name": "Python 3"
    }
  },
  "cells": [
    {
      "cell_type": "markdown",
      "metadata": {
        "id": "view-in-github",
        "colab_type": "text"
      },
      "source": [
        "<a href=\"https://colab.research.google.com/github/sejeong-park/Energy_Consumption/blob/main/Household_Electricity_Consumption_using_CNN_LSTM.ipynb\" target=\"_parent\"><img src=\"https://colab.research.google.com/assets/colab-badge.svg\" alt=\"Open In Colab\"/></a>"
      ]
    },
    {
      "cell_type": "code",
      "metadata": {
        "id": "AOs4WoXt7Jtz"
      },
      "source": [
        "from math import sqrt\r\n",
        "import numpy as np\r\n",
        "import pandas as pd\r\n",
        "\r\n",
        "from sklearn.metrics import mean_squared_error #MSE\r\n",
        "from matplotlib import pyplot\r\n",
        "\r\n",
        "from keras.models import Sequential\r\n",
        "from keras.layers import Dense\r\n",
        "from keras.layers import Flatten\r\n",
        "from keras.layers import LSTM\r\n",
        "from keras.layers import RepeatVector\r\n",
        "from keras.layers import TimeDistributed\r\n",
        "from keras.layers.convolutional import Conv1D\r\n",
        "from keras.layers.convolutional import MaxPooling1D\r\n",
        "\r\n",
        "from keras import Model,layers\r\n",
        "from keras.models import load_model, model_from_json\r\n"
      ],
      "execution_count": 72,
      "outputs": []
    },
    {
      "cell_type": "code",
      "metadata": {
        "id": "AFDaeQ2M7Jwj"
      },
      "source": [
        "#split a univariate dataset into train/test sets\r\n",
        "def split_dataset(data):\r\n",
        "  #split into standard weeks\r\n",
        "  train,test=data[1:-328],data[-328:-6]\r\n",
        "  #restructure into windows of weekly data\r\n",
        "  train=array(split(train,len(train)/7))\r\n",
        "  test=array(split(test,len(test)/7))\r\n",
        "  return train, test"
      ],
      "execution_count": 74,
      "outputs": []
    },
    {
      "cell_type": "code",
      "metadata": {
        "id": "uW0It2Co7JzL"
      },
      "source": [
        "#예측(실측값, 예측값)\r\n",
        "def evaluate_forecasts(actual,predicted):\r\n",
        "  scores=list()\r\n",
        "  for i in range(actual.shape[1]):\r\n",
        "    mse=mean_squared_error(actual[:,i],predicted[:,i])\r\n",
        "    rmse=sqrt(mse)\r\n",
        "    scores.append(rmse)\r\n",
        "\r\n",
        "  s=0\r\n",
        "  for row in range(actual.shape[0]):\r\n",
        "    for col in range(actual.shape[1]):\r\n",
        "      s+=(actual[row,col]-predicted[row,col])**2\r\n",
        "  score=sqrt(s/(actual.shape[0]*actual.shape[1]))\r\n",
        "  return score,scores\r\n"
      ],
      "execution_count": 75,
      "outputs": []
    },
    {
      "cell_type": "code",
      "metadata": {
        "id": "3tovQkuW7J2L"
      },
      "source": [
        "def summarize_scores(name,score,scores):\r\n",
        "  s_scores=','.join(['%.1f' % s for s in scores])\r\n",
        "  print('%s: [%.3f] %s'%(name,score,s_scores))"
      ],
      "execution_count": 76,
      "outputs": []
    },
    {
      "cell_type": "code",
      "metadata": {
        "id": "8jrdADrw7J5D"
      },
      "source": [
        "#convert history into inputs and outputs\r\n",
        "def to_supervised(train,n_input,n_out=7):\r\n",
        "  #flatten data\r\n",
        "  data=train.reshape((train.shape[0]*train.shape[1],train.shape[2]))\r\n",
        "  x,y=list(),list()\r\n",
        "  in_start=0\r\n",
        "  for _ in range(len(data)):\r\n",
        "    in_end=in_start+n_input\r\n",
        "    out_end=in_end+n_out\r\n",
        "    if out_end<len(data):\r\n",
        "      x.append(data[in_start:in_end,:])\r\n",
        "      y.append(data[in_end:out_end, 0])\r\n",
        "    in_start+=1\r\n",
        "  return array(x),array(y)"
      ],
      "execution_count": 56,
      "outputs": []
    },
    {
      "cell_type": "code",
      "metadata": {
        "id": "m0w0K5ApCcuf"
      },
      "source": [
        "# train the model\r\n",
        "def build_and_train_model(train, n_input):\r\n",
        "    # prepare data\r\n",
        "    train_x, train_y = to_supervised(train, n_input)\r\n",
        "    # define parameters\r\n",
        "    verbose, epochs, batch_size = 1, 50, 16\r\n",
        "    n_timesteps, n_features, n_outputs = train_x.shape[1], train_x.shape[2], train_y.shape[1]\r\n",
        "    # reshape output into [samples, timesteps, features]\r\n",
        "    train_y = train_y.reshape((train_y.shape[0], train_y.shape[1], 1))\r\n",
        "\r\n",
        "    model = Sequential()\r\n",
        "    model.add(Conv1D(filters=64, kernel_size=3, activation='relu', input_shape=(n_timesteps,n_features)))\r\n",
        "    model.add(Conv1D(filters=64, kernel_size=3, activation='relu'))\r\n",
        "    model.add(MaxPooling1D(pool_size=2))\r\n",
        "    model.add(Flatten())\r\n",
        "    model.add(RepeatVector(n_outputs))\r\n",
        "    model.add(LSTM(200, activation='relu', return_sequences=True))\r\n",
        "    model.add(TimeDistributed(Dense(100, activation='relu')))\r\n",
        "    model.add(TimeDistributed(Dense(1)))\r\n",
        "    model.compile(loss='mse', optimizer='adam')\r\n",
        "    # fit network\r\n",
        "    model.fit(train_x, train_y, epochs=epochs, batch_size=batch_size, verbose=verbose)\r\n",
        "    return model"
      ],
      "execution_count": 77,
      "outputs": []
    },
    {
      "cell_type": "code",
      "metadata": {
        "id": "E6tlgyHbCcr1"
      },
      "source": [
        "def forecast(model,history,n_input):\r\n",
        "  #flatten data\r\n",
        "  data=array(history)\r\n",
        "  data=data.reshape((data.shape[0]*data.shape[1],data.shape[2]))\r\n",
        "  input_x=data[-n_input:,:]\r\n",
        "  input_x=input_x.reshape((1,input_x.shape[0],input_x.shape[1]))\r\n",
        "  yhat=model.predict(input_x,verbose=0)\r\n",
        "  yhat=yhat[0]\r\n",
        "  return yhat"
      ],
      "execution_count": 84,
      "outputs": []
    },
    {
      "cell_type": "code",
      "metadata": {
        "id": "n_JtdPU8Ccow"
      },
      "source": [
        "def evaluate_model(train,test,n_input):\r\n",
        "  model=build_and_train_model(train,n_input)\r\n",
        "  model.save('models/CNN_Encoder_LSTM_Decoder_Seq2Seq_Multivariate_Model.h5')\r\n",
        "  model.save_weights('models/CNN_Encoder_LSTM_Decoder_Seq2Seq_Multivariate_Model_Weight.h5')\r\n",
        "  with open('models/CNN_Encoder_LSTM_Decoder_Seq2Seq_Multivariate_Model_architecture.json','w') as f:\r\n",
        "    f.write(model.to_json())\r\n",
        "  \r\n",
        "  history=[x for x in train]\r\n",
        "  predictions=list()\r\n",
        "  for i in range(len(test)):\r\n",
        "    yhat_sequence=forecast(model,history,n_input)\r\n",
        "    predictions.append(yhat_sequence)\r\n",
        "    history.append(test[i,:])\r\n",
        "  predictions=array(predictions)\r\n",
        "  score,scores=evaluate_forecasts(test[:,:,0],predictions)\r\n",
        "  return score,scores"
      ],
      "execution_count": 79,
      "outputs": []
    },
    {
      "cell_type": "code",
      "metadata": {
        "id": "uXWq2dJUKfFw"
      },
      "source": [
        "# evaluate a single model\r\n",
        "def evaluate_model(train, test, n_input):\r\n",
        "    # fit model\r\n",
        "    model = build_and_train_model(train, n_input)\r\n",
        "    model.save('models/CNN_Encoder_LSTM_Decoder_Seq2Seq_Multivariate_Model.h5')\r\n",
        "\r\n",
        "    # architecture to JSON, weights to HDF5\r\n",
        "    model.save_weights('models/CNN_Encoder_LSTM_Decoder_Seq2Seq_Multivariate_Model_Weights.h5')\r\n",
        "    with open('models/CNN_Encoder_LSTM_Decoder_Seq2Seq_Multivariate_Model_architecture.json', 'w') as f:\r\n",
        "            f.write(model.to_json())\r\n",
        "    # history is a list of weekly data\r\n",
        "    history = [x for x in train]\r\n",
        "    # walk-forward validation over each week\r\n",
        "    predictions = list()\r\n",
        "    for i in range(len(test)):\r\n",
        "        # predict the week\r\n",
        "        yhat_sequence = forecast(model, history, n_input)\r\n",
        "        # store the predictions\r\n",
        "        predictions.append(yhat_sequence)\r\n",
        "        # get real observation and add to history for predicting the next week\r\n",
        "        history.append(test[i, :])\r\n",
        "    # evaluate predictions days for each week\r\n",
        "    predictions = array(predictions)\r\n",
        "    score, scores = evaluate_forecasts(test[:, :, 0], predictions)\r\n",
        "    return score, scores"
      ],
      "execution_count": 80,
      "outputs": []
    },
    {
      "cell_type": "code",
      "metadata": {
        "id": "xD1V-o-eCcl2"
      },
      "source": [
        "def load_pretrained_model(train,test,n_input):\r\n",
        "  model=load_model('models/CNN_Encoder_LSTM_Decoder_Seq2Seq_Multivariate_Model.h5')\r\n",
        "\r\n",
        "  with open('models/CNN_Encoder_LSTM_Decoder_Seq2Seq_Multivariate_architecture.json') as f:\r\n",
        "    model=model_from_json(f.read())\r\n",
        "  model.load_weights('model/CNN_Encoder_LSTM_Decoder_Seq2Seq_Multivariate_Model_Weights.h5')\r\n",
        "\r\n",
        "  history=[x for x in train]\r\n",
        "  predictions=list()\r\n",
        "  for i in range(len(test)):\r\n",
        "    yhat_sequence=forecst(model,history,n_input)\r\n",
        "    predictions.append(yhat_sequence)\r\n",
        "    history.append(test[i,:])\r\n",
        "  predictions=array(predictions)\r\n",
        "  score,scores=evaluate_forecasts(test[:,:,0],predictions)\r\n",
        "  return score, scores"
      ],
      "execution_count": 81,
      "outputs": []
    },
    {
      "cell_type": "code",
      "metadata": {
        "id": "rXn8v8m4Ccf9"
      },
      "source": [
        "dataset = read_csv('household_power_consumption_days.csv', header=0, infer_datetime_format=True, parse_dates=['datetime'], index_col=['datetime'])"
      ],
      "execution_count": 82,
      "outputs": []
    },
    {
      "cell_type": "code",
      "metadata": {
        "colab": {
          "base_uri": "https://localhost:8080/"
        },
        "id": "0iiswfGNCcdN",
        "outputId": "c402d655-8e0e-4be0-c6ee-4e97fc9c2904"
      },
      "source": [
        "train, test=split_dataset(dataset.values)\r\n",
        "n_input=14\r\n",
        "score, scores = evaluate_model(train, test, n_input)\r\n",
        "summarize_scores('cnn-lstm',score,scores)\r\n",
        "days_label=['sun','mon','tue','wed','thr','fri','sat']\r\n",
        "days=[0,1,2,3,4,5,6]\r\n"
      ],
      "execution_count": 85,
      "outputs": [
        {
          "output_type": "stream",
          "text": [
            "Epoch 1/50\n",
            "69/69 [==============================] - 3s 23ms/step - loss: 96896574.3429\n",
            "Epoch 2/50\n",
            "69/69 [==============================] - 2s 23ms/step - loss: 448340.3304\n",
            "Epoch 3/50\n",
            "69/69 [==============================] - 2s 23ms/step - loss: 375619.6469\n",
            "Epoch 4/50\n",
            "69/69 [==============================] - 2s 22ms/step - loss: 356044.4473\n",
            "Epoch 5/50\n",
            "69/69 [==============================] - 2s 23ms/step - loss: 355430.6223\n",
            "Epoch 6/50\n",
            "69/69 [==============================] - 2s 23ms/step - loss: 340849.7982\n",
            "Epoch 7/50\n",
            "69/69 [==============================] - 2s 23ms/step - loss: 365352.9281\n",
            "Epoch 8/50\n",
            "69/69 [==============================] - 2s 22ms/step - loss: 390763.2375\n",
            "Epoch 9/50\n",
            "69/69 [==============================] - 2s 23ms/step - loss: 349131.1357\n",
            "Epoch 10/50\n",
            "69/69 [==============================] - 2s 23ms/step - loss: 347048.7228\n",
            "Epoch 11/50\n",
            "69/69 [==============================] - 1s 22ms/step - loss: 342975.8487\n",
            "Epoch 12/50\n",
            "69/69 [==============================] - 2s 23ms/step - loss: 331032.1397\n",
            "Epoch 13/50\n",
            "69/69 [==============================] - 2s 22ms/step - loss: 394414.7013\n",
            "Epoch 14/50\n",
            "69/69 [==============================] - 2s 23ms/step - loss: 367300.6746\n",
            "Epoch 15/50\n",
            "69/69 [==============================] - 2s 23ms/step - loss: 323522.0464\n",
            "Epoch 16/50\n",
            "69/69 [==============================] - 2s 22ms/step - loss: 685117.8344\n",
            "Epoch 17/50\n",
            "69/69 [==============================] - 2s 23ms/step - loss: 360331.1714\n",
            "Epoch 18/50\n",
            "69/69 [==============================] - 2s 22ms/step - loss: 275211.1435\n",
            "Epoch 19/50\n",
            "69/69 [==============================] - 2s 23ms/step - loss: 455598.9991\n",
            "Epoch 20/50\n",
            "69/69 [==============================] - 2s 23ms/step - loss: 370953.6500\n",
            "Epoch 21/50\n",
            "69/69 [==============================] - 2s 23ms/step - loss: 470095.1036\n",
            "Epoch 22/50\n",
            "69/69 [==============================] - 1s 22ms/step - loss: 353231.0031\n",
            "Epoch 23/50\n",
            "69/69 [==============================] - 2s 23ms/step - loss: 293631.4335\n",
            "Epoch 24/50\n",
            "69/69 [==============================] - 2s 23ms/step - loss: 357501.8875\n",
            "Epoch 25/50\n",
            "69/69 [==============================] - 2s 22ms/step - loss: 306717.4629\n",
            "Epoch 26/50\n",
            "69/69 [==============================] - 1s 22ms/step - loss: 340623.4879\n",
            "Epoch 27/50\n",
            "69/69 [==============================] - 2s 22ms/step - loss: 326620.9743\n",
            "Epoch 28/50\n",
            "69/69 [==============================] - 2s 23ms/step - loss: 377225.1114\n",
            "Epoch 29/50\n",
            "69/69 [==============================] - 2s 22ms/step - loss: 316814.7339\n",
            "Epoch 30/50\n",
            "69/69 [==============================] - 2s 24ms/step - loss: 394807.4080\n",
            "Epoch 31/50\n",
            "69/69 [==============================] - 2s 24ms/step - loss: 421245.0583\n",
            "Epoch 32/50\n",
            "69/69 [==============================] - 2s 24ms/step - loss: 395484.0790\n",
            "Epoch 33/50\n",
            "69/69 [==============================] - 2s 24ms/step - loss: 390321.6627\n",
            "Epoch 34/50\n",
            "69/69 [==============================] - 2s 24ms/step - loss: 305797.2335\n",
            "Epoch 35/50\n",
            "69/69 [==============================] - 2s 22ms/step - loss: 324760.4210\n",
            "Epoch 36/50\n",
            "69/69 [==============================] - 2s 23ms/step - loss: 288404.4594\n",
            "Epoch 37/50\n",
            "69/69 [==============================] - 2s 23ms/step - loss: 310448.2578\n",
            "Epoch 38/50\n",
            "69/69 [==============================] - 2s 22ms/step - loss: 304109.5408\n",
            "Epoch 39/50\n",
            "69/69 [==============================] - 2s 22ms/step - loss: 305075.4549\n",
            "Epoch 40/50\n",
            "69/69 [==============================] - 2s 23ms/step - loss: 340537.5067\n",
            "Epoch 41/50\n",
            "69/69 [==============================] - 2s 23ms/step - loss: 349397.6446\n",
            "Epoch 42/50\n",
            "69/69 [==============================] - 2s 23ms/step - loss: 342559.3036\n",
            "Epoch 43/50\n",
            "69/69 [==============================] - 2s 23ms/step - loss: 314040.9013\n",
            "Epoch 44/50\n",
            "69/69 [==============================] - 2s 22ms/step - loss: 302829.5295\n",
            "Epoch 45/50\n",
            "69/69 [==============================] - 2s 23ms/step - loss: 310789.8973\n",
            "Epoch 46/50\n",
            "69/69 [==============================] - 2s 22ms/step - loss: 364926.8585\n",
            "Epoch 47/50\n",
            "69/69 [==============================] - 2s 23ms/step - loss: 414216.1152\n",
            "Epoch 48/50\n",
            "69/69 [==============================] - 2s 23ms/step - loss: 283597.4355\n",
            "Epoch 49/50\n",
            "69/69 [==============================] - 2s 23ms/step - loss: 296131.9060\n",
            "Epoch 50/50\n",
            "69/69 [==============================] - 2s 23ms/step - loss: 293029.1788\n",
            "cnn-lstm: [482.120] 409.5,385.7,368.0,506.1,434.7,456.8,722.1\n"
          ],
          "name": "stdout"
        }
      ]
    },
    {
      "cell_type": "code",
      "metadata": {
        "colab": {
          "base_uri": "https://localhost:8080/",
          "height": 279
        },
        "id": "1f3QJ32RLae_",
        "outputId": "6e6dcdb2-c1fd-4185-b0e3-a12bb4736294"
      },
      "source": [
        "days_label=['sun','mon','tue','wed','thr','fri','sat']\r\n",
        "days=[0,1,2,3,4,5,6]\r\n",
        "\r\n",
        "pyplot.plot(days, scores,marker='o',label='CNN-LSTM')\r\n",
        "pyplot.xlabel(days_label)\r\n",
        "pyplot.ylabel('RMSE Daily Forecast Error')\r\n",
        "pyplot.legend()\r\n",
        "pyplot.show()"
      ],
      "execution_count": 87,
      "outputs": [
        {
          "output_type": "display_data",
          "data": {
            "image/png": "[encoded data removed]",
            "text/plain": [
              "<Figure size 432x288 with 1 Axes>"
            ]
          },
          "metadata": {
            "tags": [],
            "needs_background": "light"
          }
        }
      ]
    }
  ]
}